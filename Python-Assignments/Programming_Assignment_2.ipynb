{
 "cells": [
  {
   "cell_type": "markdown",
   "id": "8e116330-22e9-4c51-a1dc-cbf2572ef1fd",
   "metadata": {},
   "source": [
    "# Python Programming Assignment - 2\n",
    "1. Write a Python program to convert kilometers to miles?\n",
    "2. Write a Python program to convert Celsius to Fahrenheit?\n",
    "3. Write a Python program to display calendar?\n",
    "4. Write a Python program to solve quadratic equation?\n",
    "5. Write a Python program to swap two variables without temp variable?"
   ]
  },
  {
   "cell_type": "markdown",
   "id": "8a55fe69-b54a-453e-ad35-e1023a979267",
   "metadata": {},
   "source": [
    "1. Write a Python program to convert kilometers to miles?"
   ]
  },
  {
   "cell_type": "code",
   "execution_count": 3,
   "id": "6297cd8b-e1fc-46ae-9014-ae1ef6d8092d",
   "metadata": {},
   "outputs": [
    {
     "name": "stdout",
     "output_type": "stream",
     "text": [
      "10 kilometers is equal to 6.21 miles.\n"
     ]
    }
   ],
   "source": [
    "def km_to_miles(kilometers):\n",
    "  # 1 mile is equal to 1.60934 kilometers\n",
    "  miles = kilometers / 1.60934\n",
    "  return miles\n",
    "\n",
    "# Example\n",
    "kilometers = 10\n",
    "print(f\"{kilometers} kilometers is equal to {km_to_miles(kilometers):.2f} miles.\")\n"
   ]
  },
  {
   "cell_type": "markdown",
   "id": "b239a715-b966-4c5e-bcf9-18b337956c01",
   "metadata": {},
   "source": [
    "2. Write a Python program to convert Celsius to Fahrenheit?"
   ]
  },
  {
   "cell_type": "code",
   "execution_count": 4,
   "id": "d30b5fe6-6c7a-4d50-a9fd-214148815b2d",
   "metadata": {},
   "outputs": [
    {
     "name": "stdout",
     "output_type": "stream",
     "text": [
      "25°C is equal to 77.0°F.\n"
     ]
    }
   ],
   "source": [
    "def celsius_to_fahrenheit(celsius):\n",
    "  # 1 degree Celsius is equal to 1.8 degrees Fahrenheit\n",
    "  fahrenheit = celsius * 1.8 + 32\n",
    "  return fahrenheit\n",
    "\n",
    "# Example\n",
    "celsius = 25\n",
    "print(f\"{celsius}°C is equal to {celsius_to_fahrenheit(celsius)}°F.\")\n"
   ]
  },
  {
   "cell_type": "markdown",
   "id": "65d514c5-a40c-4493-bf4b-2856fe8fee27",
   "metadata": {},
   "source": [
    "3. Write a Python program to display calendar?"
   ]
  },
  {
   "cell_type": "code",
   "execution_count": 5,
   "id": "75049354-7a07-417c-8682-b559452eb92e",
   "metadata": {},
   "outputs": [
    {
     "name": "stdout",
     "output_type": "stream",
     "text": [
      "    January 2023\n",
      "Mo Tu We Th Fr Sa Su\n",
      "                   1\n",
      " 2  3  4  5  6  7  8\n",
      " 9 10 11 12 13 14 15\n",
      "16 17 18 19 20 21 22\n",
      "23 24 25 26 27 28 29\n",
      "30 31\n",
      "\n"
     ]
    }
   ],
   "source": [
    "import calendar\n",
    "\n",
    "# Prompt the user to enter a month and year\n",
    "year = 2023\n",
    "month = 1\n",
    "\n",
    "# Display the calendar\n",
    "print(calendar.month(year, month))\n"
   ]
  },
  {
   "cell_type": "markdown",
   "id": "8faddd26-e6e8-451f-a136-7ebfc522967c",
   "metadata": {},
   "source": [
    "4. Write a Python program to solve quadratic equation?"
   ]
  },
  {
   "cell_type": "code",
   "execution_count": 6,
   "id": "ed78383d-f356-4889-930a-fc849c0d1849",
   "metadata": {},
   "outputs": [
    {
     "name": "stdout",
     "output_type": "stream",
     "text": [
      "The solutions to the equation 1x^2 + 5x + 6 = 0 are:\n",
      "x = -2.00+0.00j\n",
      "x = -3.00+0.00j\n"
     ]
    }
   ],
   "source": [
    "import cmath\n",
    "\n",
    "def solve_quadratic(a, b, c):\n",
    "  # Calculate the discriminant\n",
    "  discriminant = b**2 - 4*a*c\n",
    "\n",
    "  # Calculate the solutions\n",
    "  solution1 = (-b + cmath.sqrt(discriminant)) / (2*a)\n",
    "  solution2 = (-b - cmath.sqrt(discriminant)) / (2*a)\n",
    "\n",
    "  return solution1, solution2\n",
    "\n",
    "# Example\n",
    "a = 1\n",
    "b = 5\n",
    "c = 6\n",
    "solutions = solve_quadratic(a, b, c)\n",
    "print(f\"The solutions to the equation {a}x^2 + {b}x + {c} = 0 are:\")\n",
    "print(f\"x = {solutions[0]:.2f}\")\n",
    "print(f\"x = {solutions[1]:.2f}\")\n"
   ]
  },
  {
   "cell_type": "markdown",
   "id": "093e284a-22c2-4ed9-afbf-dfabd74eff03",
   "metadata": {},
   "source": [
    "5. Write a Python program to swap two variables without temp variable?"
   ]
  },
  {
   "cell_type": "code",
   "execution_count": 7,
   "id": "320c7f5c-b635-4828-b3bf-b1dd3a41866e",
   "metadata": {},
   "outputs": [
    {
     "name": "stdout",
     "output_type": "stream",
     "text": [
      "x = 20, y = 10\n"
     ]
    }
   ],
   "source": [
    "# Declare the variables\n",
    "x = 10\n",
    "y = 20\n",
    "\n",
    "# Swap the values of the variables\n",
    "x, y = y, x\n",
    "\n",
    "# Print the swapped values\n",
    "print(f\"x = {x}, y = {y}\")\n"
   ]
  },
  {
   "cell_type": "code",
   "execution_count": null,
   "id": "4ac13388-a13f-4824-bafc-8a52af3d27bc",
   "metadata": {},
   "outputs": [],
   "source": []
  }
 ],
 "metadata": {
  "kernelspec": {
   "display_name": "Python 3 (ipykernel)",
   "language": "python",
   "name": "python3"
  },
  "language_info": {
   "codemirror_mode": {
    "name": "ipython",
    "version": 3
   },
   "file_extension": ".py",
   "mimetype": "text/x-python",
   "name": "python",
   "nbconvert_exporter": "python",
   "pygments_lexer": "ipython3",
   "version": "3.10.6"
  }
 },
 "nbformat": 4,
 "nbformat_minor": 5
}
