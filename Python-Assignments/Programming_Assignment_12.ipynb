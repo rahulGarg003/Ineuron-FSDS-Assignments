{
 "cells": [
  {
   "cell_type": "markdown",
   "id": "efc47023-4384-4255-b9a7-fca7993bad6d",
   "metadata": {},
   "source": [
    "# Python Programming Assignment - 12\n",
    "1. Write a Python program to Extract Unique values dictionary values?\n",
    "2. Write a Python program to find the sum of all items in a dictionary?\n",
    "3. Write a Python program to Merging two Dictionaries?\n",
    "4. Write a Python program to convert key-values list to flat dictionary?\n",
    "5. Write a Python program to insertion at the beginning in OrderedDict?\n",
    "6. Write a Python program to check order of character in string using OrderedDict()?\n",
    "7. Write a Python program to sort Python Dictionaries by Key or Value?"
   ]
  },
  {
   "cell_type": "markdown",
   "id": "bca0dab6-f99c-4410-b17b-e6fa6e0361af",
   "metadata": {},
   "source": [
    "1. Write a Python program to Extract Unique values dictionary values?"
   ]
  },
  {
   "cell_type": "code",
   "execution_count": 1,
   "id": "1edf6c81-4562-4c89-974e-8cd70ad9f5cd",
   "metadata": {},
   "outputs": [
    {
     "name": "stdout",
     "output_type": "stream",
     "text": [
      "{1, 2, 3}\n"
     ]
    }
   ],
   "source": [
    "# Define a dictionary with some duplicate values\n",
    "d = {'a': 1, 'b': 2, 'c': 3, 'd': 1, 'e': 2}\n",
    "\n",
    "# Extract the values from the dictionary and convert them to a set to remove duplicates\n",
    "unique_values = set(d.values())\n",
    "\n",
    "# Print the unique values\n",
    "print(unique_values)\n"
   ]
  },
  {
   "cell_type": "code",
   "execution_count": 3,
   "id": "602e5e0c-0948-46c7-b5c6-550c8a54e938",
   "metadata": {},
   "outputs": [
    {
     "name": "stdout",
     "output_type": "stream",
     "text": [
      "[1, 2, 3]\n"
     ]
    }
   ],
   "source": [
    "unique_values_list = list(unique_values)\n",
    "print(unique_values_list)"
   ]
  },
  {
   "cell_type": "markdown",
   "id": "c5964cd6-d978-4c1d-9db1-14d214fa72f6",
   "metadata": {},
   "source": [
    "2. Write a Python program to find the sum of all items in a dictionary?"
   ]
  },
  {
   "cell_type": "code",
   "execution_count": 4,
   "id": "423144c4-1b24-49f4-914a-be5b5efd332e",
   "metadata": {},
   "outputs": [
    {
     "name": "stdout",
     "output_type": "stream",
     "text": [
      "10\n"
     ]
    }
   ],
   "source": [
    "# Define a dictionary\n",
    "d = {'a': 1, 'b': 2, 'c': 3, 'd': 4}\n",
    "\n",
    "# Find the sum of the values in the dictionary\n",
    "total = sum(d.values())\n",
    "\n",
    "# Print the total\n",
    "print(total)\n"
   ]
  },
  {
   "cell_type": "code",
   "execution_count": 6,
   "id": "225316a5-0961-49e9-9555-9b828119073f",
   "metadata": {},
   "outputs": [
    {
     "name": "stdout",
     "output_type": "stream",
     "text": [
      "10\n"
     ]
    }
   ],
   "source": [
    "# Define a dictionary\n",
    "d = {'a': 1, 'b': 2, 'c': 3, 'd': 4}\n",
    "\n",
    "# Initialize a variable to store the total\n",
    "total = 0\n",
    "\n",
    "# Iterate over the dictionary and sum the keys\n",
    "for key in d:\n",
    "  total += d.get(key)\n",
    "\n",
    "# Print the total\n",
    "print(total)\n"
   ]
  },
  {
   "cell_type": "markdown",
   "id": "b1be3946-644c-4a5a-8b6d-d7be71a232c6",
   "metadata": {},
   "source": [
    "3. Write a Python program to Merging two Dictionaries?"
   ]
  },
  {
   "cell_type": "code",
   "execution_count": 7,
   "id": "864f2ffb-a7fe-47d2-bfa1-63d1a0e2ab04",
   "metadata": {},
   "outputs": [
    {
     "name": "stdout",
     "output_type": "stream",
     "text": [
      "{'a': 1, 'b': 2, 'c': 3, 'd': 4}\n"
     ]
    }
   ],
   "source": [
    "# Define the first dictionary\n",
    "dict1 = {'a': 1, 'b': 2}\n",
    "\n",
    "# Define the second dictionary\n",
    "dict2 = {'c': 3, 'd': 4}\n",
    "\n",
    "# Merge the two dictionaries\n",
    "dict1.update(dict2)\n",
    "\n",
    "# Print the merged dictionary\n",
    "print(dict1)\n"
   ]
  },
  {
   "cell_type": "code",
   "execution_count": 8,
   "id": "e34ebd52-b605-4fa4-9ef9-94ed350e4a66",
   "metadata": {},
   "outputs": [
    {
     "name": "stdout",
     "output_type": "stream",
     "text": [
      "{'a': 1, 'b': 2, 'c': 3, 'd': 4}\n"
     ]
    }
   ],
   "source": [
    "# Define the first dictionary\n",
    "dict1 = {'a': 1, 'b': 2}\n",
    "\n",
    "# Define the second dictionary\n",
    "dict2 = {'c': 3, 'd': 4}\n",
    "\n",
    "# Merge the two dictionaries\n",
    "dict3 = {**dict1, **dict2}\n",
    "\n",
    "# Print the merged dictionary\n",
    "print(dict3)\n"
   ]
  },
  {
   "cell_type": "markdown",
   "id": "b421280c-3a44-4ad3-b4aa-31e3c9d0416c",
   "metadata": {},
   "source": [
    "4. Write a Python program to convert key-values list to flat dictionary?"
   ]
  },
  {
   "cell_type": "code",
   "execution_count": 9,
   "id": "37caeb5d-8b0f-457a-9407-544efc9dac1d",
   "metadata": {},
   "outputs": [
    {
     "name": "stdout",
     "output_type": "stream",
     "text": [
      "{'a': 1, 'b': 2, 'c': 3}\n"
     ]
    }
   ],
   "source": [
    "# Define a list of key-value tuples\n",
    "kv_list = [('a', 1), ('b', 2), ('c', 3)]\n",
    "\n",
    "# Initialize an empty dictionary\n",
    "d = {}\n",
    "\n",
    "# Iterate over the list and add each tuple to the dictionary\n",
    "for k, v in kv_list:\n",
    "  d[k] = v\n",
    "\n",
    "# Print the dictionary\n",
    "print(d)\n"
   ]
  },
  {
   "cell_type": "code",
   "execution_count": 13,
   "id": "8c6d8b79-fac8-49dc-a5a6-2144d290078d",
   "metadata": {},
   "outputs": [
    {
     "name": "stdout",
     "output_type": "stream",
     "text": [
      "{'a': 1, 'b': 2, 'c': 3}\n"
     ]
    }
   ],
   "source": [
    "# Define a list of key-value tuples\n",
    "kv_list = [('a', 1), ('b', 2), ('c', 3)]\n",
    "\n",
    "# Create the dictionary using a dictionary comprehension\n",
    "d = {k: v for k, v in kv_list}\n",
    "\n",
    "# Print the dictionary\n",
    "print(d)\n"
   ]
  },
  {
   "cell_type": "markdown",
   "id": "5e9465ee-4b03-40e2-8042-5acc06d78dd6",
   "metadata": {},
   "source": [
    "5. Write a Python program to insertion at the beginning in OrderedDict?"
   ]
  },
  {
   "cell_type": "code",
   "execution_count": 19,
   "id": "39ea3d5e-7600-4294-9361-7c4dd2444d47",
   "metadata": {},
   "outputs": [
    {
     "name": "stdout",
     "output_type": "stream",
     "text": [
      "OrderedDict([('d', 4), ('b', 2), ('a', 1), ('c', 3)])\n"
     ]
    }
   ],
   "source": [
    "from collections import OrderedDict\n",
    "\n",
    "# Define an OrderedDict\n",
    "d = OrderedDict([('b', 2), ('a', 1), ('c', 3)])\n",
    "\n",
    "# Insert an item at the beginning of the OrderedDict\n",
    "d['d'] = 4\n",
    "\n",
    "d.move_to_end('d', False)\n",
    "\n",
    "# Print the OrderedDict\n",
    "print(d)\n"
   ]
  },
  {
   "cell_type": "markdown",
   "id": "f0b83d91-f5cf-4767-a19c-f033e67baa5f",
   "metadata": {},
   "source": [
    "6. Write a Python program to check order of character in string using OrderedDict()?"
   ]
  },
  {
   "cell_type": "code",
   "execution_count": 30,
   "id": "39e90bd9-83c6-4174-8827-ce22ba7ef97c",
   "metadata": {},
   "outputs": [
    {
     "name": "stdout",
     "output_type": "stream",
     "text": [
      "The string is: Hi Mark\n",
      "The input pattern is: Ma\n",
      "The order of pattern is correct\n"
     ]
    }
   ],
   "source": [
    "from collections import OrderedDict\n",
    "def check_order(my_input, my_pattern):\n",
    "   my_dict = OrderedDict.fromkeys(my_input)\n",
    "   pattern_length = 0\n",
    "   for key,value in my_dict.items():\n",
    "      if (key == my_pattern[pattern_length]):\n",
    "         pattern_length = pattern_length + 1\n",
    "\n",
    "      if (pattern_length == (len(my_pattern))):\n",
    "         return 'The order of pattern is correct'\n",
    "\n",
    "   return 'The order of pattern is incorrect'\n",
    "\n",
    "my_input = 'Hi Mark'\n",
    "input_pattern = 'Ma'\n",
    "print(f\"The string is: {my_input}\")\n",
    "print(f\"The input pattern is: {input_pattern}\")\n",
    "print(check_order(my_input,input_pattern))"
   ]
  },
  {
   "cell_type": "markdown",
   "id": "abb4e83f-30f0-4546-8576-662beba76685",
   "metadata": {},
   "source": [
    "7. Write a Python program to sort Python Dictionaries by Key or Value?"
   ]
  },
  {
   "cell_type": "code",
   "execution_count": 31,
   "id": "c3ed3805-087b-419c-a5ad-51e6748ceee8",
   "metadata": {},
   "outputs": [
    {
     "name": "stdout",
     "output_type": "stream",
     "text": [
      "{'a': 1, 'b': 2, 'c': 3}\n"
     ]
    }
   ],
   "source": [
    "# Initialize a dictionary\n",
    "my_dict = {'c': 3, 'a': 1, 'b': 2}\n",
    "\n",
    "# Sort the dictionary by key\n",
    "sorted_dict = dict(sorted(my_dict.items()))\n",
    "\n",
    "print(sorted_dict)  # Output: {'a': 1, 'b': 2, 'c': 3}\n"
   ]
  },
  {
   "cell_type": "code",
   "execution_count": 38,
   "id": "d6988832-7356-4184-9883-1831a08b85be",
   "metadata": {},
   "outputs": [
    {
     "name": "stdout",
     "output_type": "stream",
     "text": [
      "{'b': 2, 'a': 3, 'c': 4}\n"
     ]
    }
   ],
   "source": [
    "# Initialize a dictionary\n",
    "my_dict = {'c': 4, 'a': 3, 'b': 2}\n",
    "\n",
    "# Sort the dictionary by value\n",
    "sorted_dict = dict(sorted(my_dict.items(), key=lambda item: item[1]))\n",
    "\n",
    "print(sorted_dict)  # Output: {'a': 1, 'b': 2, 'c': 3}\n"
   ]
  },
  {
   "cell_type": "code",
   "execution_count": 40,
   "id": "16569fa0-9872-4225-8a23-b42fbb1a66d8",
   "metadata": {},
   "outputs": [
    {
     "name": "stdout",
     "output_type": "stream",
     "text": [
      "OrderedDict([('b', 2), ('c', 3), ('a', 5)])\n"
     ]
    }
   ],
   "source": [
    "from collections import OrderedDict\n",
    "\n",
    "# Initialize a dictionary\n",
    "my_dict = {'c': 3, 'a': 5, 'b': 2}\n",
    "\n",
    "# Sort the dictionary by value and preserve the order\n",
    "sorted_dict = OrderedDict(sorted(my_dict.items(), key=lambda item: item[1]))\n",
    "\n",
    "print(sorted_dict)  # Output: OrderedDict([('a', 1), ('b', 2), ('c', 3)])\n"
   ]
  },
  {
   "cell_type": "code",
   "execution_count": null,
   "id": "5aa8b98b-a05f-405d-875c-526ed4cc95d4",
   "metadata": {},
   "outputs": [],
   "source": []
  }
 ],
 "metadata": {
  "kernelspec": {
   "display_name": "Python 3 (ipykernel)",
   "language": "python",
   "name": "python3"
  },
  "language_info": {
   "codemirror_mode": {
    "name": "ipython",
    "version": 3
   },
   "file_extension": ".py",
   "mimetype": "text/x-python",
   "name": "python",
   "nbconvert_exporter": "python",
   "pygments_lexer": "ipython3",
   "version": "3.10.6"
  }
 },
 "nbformat": 4,
 "nbformat_minor": 5
}
