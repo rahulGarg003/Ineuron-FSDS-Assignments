{
 "cells": [
  {
   "cell_type": "markdown",
   "id": "44788eef-513b-4b5e-9d51-4ad93a5eb9ab",
   "metadata": {},
   "source": [
    "# Python Programming Assignment - 7\n",
    "1. Write a Python Program to find sum of array?\n",
    "2. Write a Python Program to find largest element in an array?\n",
    "3. Write a Python Program for array rotation?\n",
    "4. Write a Python Program to Split the array and add the first part to the end?\n",
    "5. Write a Python Program to check if given array is Monotonic?"
   ]
  },
  {
   "cell_type": "markdown",
   "id": "8c8a4ab9-8aae-4f8e-9fe6-1153ea83a219",
   "metadata": {},
   "source": [
    "1. Write a Python Program to find sum of array?"
   ]
  },
  {
   "cell_type": "code",
   "execution_count": 1,
   "id": "9a63a483-5a8d-479e-ad10-20c9d8014fbe",
   "metadata": {},
   "outputs": [
    {
     "name": "stdout",
     "output_type": "stream",
     "text": [
      "The sum of the elements in the array is 15\n"
     ]
    }
   ],
   "source": [
    "# Define the array\n",
    "arr = [1, 2, 3, 4, 5]\n",
    "\n",
    "# Initialize the sum to 0\n",
    "sum = 0\n",
    "\n",
    "# Iterate over the elements in the array\n",
    "for element in arr:\n",
    "   # Add the element to the sum\n",
    "   sum += element\n",
    "\n",
    "# Print the result\n",
    "print(f\"The sum of the elements in the array is {sum}\")\n"
   ]
  },
  {
   "cell_type": "markdown",
   "id": "12db0f26-7d7a-4e0f-81f6-3e869138e48e",
   "metadata": {},
   "source": [
    "2. Write a Python Program to find largest element in an array?"
   ]
  },
  {
   "cell_type": "code",
   "execution_count": 2,
   "id": "c9bffb7a-9d9d-4969-9077-20a9272ed9ee",
   "metadata": {},
   "outputs": [
    {
     "name": "stdout",
     "output_type": "stream",
     "text": [
      "The largest element in the array is 8\n"
     ]
    }
   ],
   "source": [
    "# Define the array\n",
    "arr = [3, 5, 2, 8, 1]\n",
    "\n",
    "# Initialize the largest element to the first element in the array\n",
    "largest = arr[0]\n",
    "\n",
    "# Iterate over the elements in the array\n",
    "for element in arr:\n",
    "   # If the element is larger than the largest element seen so far, update the largest element\n",
    "   if element > largest:\n",
    "      largest = element\n",
    "\n",
    "# Print the result\n",
    "print(f\"The largest element in the array is {largest}\")\n"
   ]
  },
  {
   "cell_type": "markdown",
   "id": "13144c1b-4568-4f82-9ef4-f3751b72f31b",
   "metadata": {},
   "source": [
    "3. Write a Python Program for array rotation?"
   ]
  },
  {
   "cell_type": "code",
   "execution_count": 3,
   "id": "2523a6fb-26b0-4ee3-8fd5-ce421a0a1bd3",
   "metadata": {},
   "outputs": [
    {
     "name": "stdin",
     "output_type": "stream",
     "text": [
      "Enter the number of positions to rotate:  2\n"
     ]
    },
    {
     "name": "stdout",
     "output_type": "stream",
     "text": [
      "Original array: [1, 2, 3, 4, 5]\n",
      "Rotated array: [3, 4, 5, 1, 2]\n"
     ]
    }
   ],
   "source": [
    "# Define the array\n",
    "arr = [1, 2, 3, 4, 5]\n",
    "\n",
    "# Get the number of positions to rotate\n",
    "num_positions = int(input(\"Enter the number of positions to rotate: \"))\n",
    "\n",
    "# Rotate the array\n",
    "rotated_arr = arr[num_positions:] + arr[:num_positions]\n",
    "\n",
    "# Print the result\n",
    "print(f\"Original array: {arr}\")\n",
    "print(f\"Rotated array: {rotated_arr}\")\n"
   ]
  },
  {
   "cell_type": "markdown",
   "id": "760ff510-a632-4b2e-943b-305424fe6f85",
   "metadata": {},
   "source": [
    "4. Write a Python Program to Split the array and add the first part to the end?"
   ]
  },
  {
   "cell_type": "code",
   "execution_count": 4,
   "id": "023cbe73-dfab-4879-9f4d-6eafb457b476",
   "metadata": {},
   "outputs": [
    {
     "name": "stdin",
     "output_type": "stream",
     "text": [
      "Enter the index at which to split the array:  2\n"
     ]
    },
    {
     "name": "stdout",
     "output_type": "stream",
     "text": [
      "Original array: [1, 2, 3, 4, 5]\n",
      "Modified array: [3, 4, 5, 1, 2]\n"
     ]
    }
   ],
   "source": [
    "# Define the array\n",
    "arr = [1, 2, 3, 4, 5]\n",
    "\n",
    "# Get the index at which to split the array\n",
    "split_index = int(input(\"Enter the index at which to split the array: \"))\n",
    "\n",
    "# Split the array and add the first part to the end\n",
    "modified_arr = arr[split_index:] + arr[:split_index]\n",
    "\n",
    "# Print the result\n",
    "print(f\"Original array: {arr}\")\n",
    "print(f\"Modified array: {modified_arr}\")\n"
   ]
  },
  {
   "cell_type": "markdown",
   "id": "cad51329-647b-4578-b64d-a07924d798e2",
   "metadata": {},
   "source": [
    "5. Write a Python Program to check if given array is Monotonic?"
   ]
  },
  {
   "cell_type": "code",
   "execution_count": 5,
   "id": "19d47d4d-2e0b-4a24-bf60-fe11134cca5c",
   "metadata": {},
   "outputs": [
    {
     "name": "stdout",
     "output_type": "stream",
     "text": [
      "The array is monotonic.\n"
     ]
    }
   ],
   "source": [
    "# Define the array\n",
    "arr = [1, 2, 3, 4, 5]\n",
    "\n",
    "# Initialize a flag to indicate if the array is monotonic\n",
    "is_monotonic = True\n",
    "\n",
    "# Iterate over the elements in the array\n",
    "for i in range(1, len(arr)):\n",
    "   # If the element is not greater than or equal to the previous element, the array is not monotonic\n",
    "   if arr[i] < arr[i-1]:\n",
    "      is_monotonic = False\n",
    "      break\n",
    "\n",
    "# Print the result\n",
    "if is_monotonic:\n",
    "   print(\"The array is monotonic.\")\n",
    "else:\n",
    "   print(\"The array is not monotonic.\")\n"
   ]
  },
  {
   "cell_type": "code",
   "execution_count": null,
   "id": "3c62e63e-51cc-4abe-8518-3822bd7f1a02",
   "metadata": {},
   "outputs": [],
   "source": []
  }
 ],
 "metadata": {
  "kernelspec": {
   "display_name": "Python 3 (ipykernel)",
   "language": "python",
   "name": "python3"
  },
  "language_info": {
   "codemirror_mode": {
    "name": "ipython",
    "version": 3
   },
   "file_extension": ".py",
   "mimetype": "text/x-python",
   "name": "python",
   "nbconvert_exporter": "python",
   "pygments_lexer": "ipython3",
   "version": "3.10.6"
  }
 },
 "nbformat": 4,
 "nbformat_minor": 5
}
