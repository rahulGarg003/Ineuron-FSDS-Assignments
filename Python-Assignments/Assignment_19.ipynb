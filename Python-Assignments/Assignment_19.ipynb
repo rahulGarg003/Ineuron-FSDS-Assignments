{
 "cells": [
  {
   "cell_type": "markdown",
   "id": "40d21916-1530-4957-ba0c-a17ffa5bb062",
   "metadata": {},
   "source": [
    "# Python Assignment - 19\n",
    "1. Make a class called Thing with no contents and print it. Then, create an object called example from this class and also print it. Are the printed values the same or different?\n",
    "2. Create a new class called Thing2 and add the value &#39;abc&#39; to the letters class attribute. Letters should be printed.\n",
    "3. Make yet another class called, of course, Thing3. This time, assign the value &#39;xyz&#39; to an instance (object) attribute called letters. Print letters. Do you need to make an object from the class to do this?\n",
    "4. Create an Element class with the instance attributes name, symbol, and number. Create a class object with the values &#39;Hydrogen,&#39; &#39;H,&#39; and 1.\n",
    "5. Make a dictionary with these keys and values: &#39;name&#39;: &#39;Hydrogen&#39;, &#39;symbol&#39;: &#39;H&#39;, &#39;number&#39;: 1. Then, create an object called hydrogen from class Element using this dictionary.\n",
    "6. For the Element class, define a method called dump() that prints the values of the object’s attributes (name, symbol, and number). Create the hydrogen object from this new definition and use dump() to print its attributes.\n",
    "7. Call print(hydrogen). In the definition of Element, change the name of method dump to __str__, create a new hydrogen object, and call print(hydrogen) again.\n",
    "8. Modify Element to make the attributes name, symbol, and number private. Define a getter property for each to return its value.\n",
    "9. Define three classes: Bear, Rabbit, and Octothorpe. For each, define only one method: eats(). This should return &#39;berries&#39; (Bear), &#39;clover&#39; (Rabbit), or &#39;campers&#39; (Octothorpe). Create one object from each and print what it eats.\n",
    "10. Define these classes: Laser, Claw, and SmartPhone. Each has only one method: does(). This returns &#39;disintegrate&#39; (Laser), &#39;crush&#39; (Claw), or &#39;ring&#39; (SmartPhone). Then, define the class Robot that has one instance (object) of each of these. Define a does() method for the Robot that prints what its component objects do."
   ]
  },
  {
   "cell_type": "code",
   "execution_count": null,
   "id": "ed3c2eb1-4ba2-402e-8bee-b67ea5c91e25",
   "metadata": {},
   "outputs": [],
   "source": []
  },
  {
   "cell_type": "markdown",
   "id": "4150422d-2596-4f59-b231-fdb5e1624092",
   "metadata": {},
   "source": [
    "1. Make a class called Thing with no contents and print it. Then, create an object called example from this class and also print it. Are the printed values the same or different?  ---> different"
   ]
  },
  {
   "cell_type": "code",
   "execution_count": 1,
   "id": "43c9b24f-7b47-49e4-83f3-b84bb3b81479",
   "metadata": {},
   "outputs": [],
   "source": [
    "class Thing:\n",
    "    pass"
   ]
  },
  {
   "cell_type": "code",
   "execution_count": 2,
   "id": "97e10c06-dd58-426c-a89f-ca70983d4b81",
   "metadata": {},
   "outputs": [
    {
     "data": {
      "text/plain": [
       "__main__.Thing"
      ]
     },
     "execution_count": 2,
     "metadata": {},
     "output_type": "execute_result"
    }
   ],
   "source": [
    "Thing"
   ]
  },
  {
   "cell_type": "code",
   "execution_count": 3,
   "id": "5517b342-29d7-4c7c-8e89-26a5ae1c4ec9",
   "metadata": {},
   "outputs": [],
   "source": [
    "example = Thing()"
   ]
  },
  {
   "cell_type": "code",
   "execution_count": 4,
   "id": "cd23377b-6ba2-4dd1-aaa5-e0e86fe6028b",
   "metadata": {},
   "outputs": [
    {
     "data": {
      "text/plain": [
       "<__main__.Thing at 0x7fb4582a0070>"
      ]
     },
     "execution_count": 4,
     "metadata": {},
     "output_type": "execute_result"
    }
   ],
   "source": [
    "example"
   ]
  },
  {
   "cell_type": "markdown",
   "id": "6c505971-2511-4385-8eee-5c0676524936",
   "metadata": {},
   "source": [
    "2. Create a new class called Thing2 and add the value 'abc' to the letters class attribute. Letters should be printed."
   ]
  },
  {
   "cell_type": "code",
   "execution_count": 5,
   "id": "26529b48-5c22-415d-ac90-2bc78944b4ab",
   "metadata": {},
   "outputs": [],
   "source": [
    "class Thing2:\n",
    "    letters = 'abc'"
   ]
  },
  {
   "cell_type": "code",
   "execution_count": 6,
   "id": "4f83b5fb-92ba-44ca-b712-31d2798ee92c",
   "metadata": {},
   "outputs": [
    {
     "data": {
      "text/plain": [
       "'abc'"
      ]
     },
     "execution_count": 6,
     "metadata": {},
     "output_type": "execute_result"
    }
   ],
   "source": [
    "Thing2.letters"
   ]
  },
  {
   "cell_type": "markdown",
   "id": "34a8516f-1933-4a5b-873f-e1115a010bfd",
   "metadata": {},
   "source": [
    "3. Make yet another class called, of course, Thing3. This time, assign the value 'xyz' to an instance (object) attribute called letters. Print letters. Do you need to make an object from the class to do this?"
   ]
  },
  {
   "cell_type": "code",
   "execution_count": 7,
   "id": "f1009e32-a110-4877-9346-079b25ec9e73",
   "metadata": {},
   "outputs": [],
   "source": [
    "class Things3:\n",
    "    def __init__(self):\n",
    "        self.letters = 'abc'"
   ]
  },
  {
   "cell_type": "code",
   "execution_count": 8,
   "id": "9129c719-2f59-4039-ae2d-b301122aea83",
   "metadata": {},
   "outputs": [
    {
     "ename": "AttributeError",
     "evalue": "type object 'Things3' has no attribute 'letters'",
     "output_type": "error",
     "traceback": [
      "\u001b[0;31m---------------------------------------------------------------------------\u001b[0m",
      "\u001b[0;31mAttributeError\u001b[0m                            Traceback (most recent call last)",
      "Cell \u001b[0;32mIn [8], line 1\u001b[0m\n\u001b[0;32m----> 1\u001b[0m \u001b[43mThings3\u001b[49m\u001b[38;5;241;43m.\u001b[39;49m\u001b[43mletters\u001b[49m\n",
      "\u001b[0;31mAttributeError\u001b[0m: type object 'Things3' has no attribute 'letters'"
     ]
    }
   ],
   "source": [
    "Things3.letters"
   ]
  },
  {
   "cell_type": "code",
   "execution_count": 9,
   "id": "2b51aff9-ebb8-4224-9be9-b94c72345951",
   "metadata": {},
   "outputs": [
    {
     "data": {
      "text/plain": [
       "'abc'"
      ]
     },
     "execution_count": 9,
     "metadata": {},
     "output_type": "execute_result"
    }
   ],
   "source": [
    "a = Things3()\n",
    "a.letters"
   ]
  },
  {
   "cell_type": "markdown",
   "id": "10f424c0-63ee-4b28-a5f7-2d1dbcc37de8",
   "metadata": {},
   "source": [
    "4. Create an Element class with the instance attributes name, symbol, and number. Create a class object with the values 'Hydrogen,' 'H,' and 1."
   ]
  },
  {
   "cell_type": "code",
   "execution_count": 10,
   "id": "7485353a-9129-480c-96c9-27df606b4b14",
   "metadata": {},
   "outputs": [],
   "source": [
    "class Element:\n",
    "    def __init__(self, name, symbol, number):\n",
    "        self.name = name\n",
    "        self.symbol = symbol\n",
    "        self.number = number"
   ]
  },
  {
   "cell_type": "code",
   "execution_count": 11,
   "id": "e517312c-dc98-4a94-ac3f-3b0c46058b0c",
   "metadata": {},
   "outputs": [],
   "source": [
    "elem = Element('Hydrogen', 'H', 1)"
   ]
  },
  {
   "cell_type": "code",
   "execution_count": 12,
   "id": "abd1f417-7936-4ebf-bc79-4ac561626af4",
   "metadata": {},
   "outputs": [
    {
     "data": {
      "text/plain": [
       "('Hydrogen', 'H', 1)"
      ]
     },
     "execution_count": 12,
     "metadata": {},
     "output_type": "execute_result"
    }
   ],
   "source": [
    "elem.name, elem.symbol, elem.number"
   ]
  },
  {
   "cell_type": "markdown",
   "id": "34227a4d-0168-4599-8236-5c3e6681a31c",
   "metadata": {},
   "source": [
    "5. Make a dictionary with these keys and values: 'name': 'Hydrogen', 'symbol': 'H', 'number': 1. Then, create an object called hydrogen from class Element using this dictionary."
   ]
  },
  {
   "cell_type": "code",
   "execution_count": 13,
   "id": "630fe174-f086-4322-a00a-516ab48ec287",
   "metadata": {},
   "outputs": [],
   "source": [
    "d = {'name': 'Hydrogen', 'symbol': 'H', 'number': 1}\n",
    "hydrogen = Element(**d)"
   ]
  },
  {
   "cell_type": "code",
   "execution_count": 14,
   "id": "c55f74e5-80ef-46c4-9824-2412e3d17731",
   "metadata": {},
   "outputs": [
    {
     "data": {
      "text/plain": [
       "('Hydrogen', 'H', 1)"
      ]
     },
     "execution_count": 14,
     "metadata": {},
     "output_type": "execute_result"
    }
   ],
   "source": [
    "hydrogen.name, hydrogen.symbol, hydrogen.number"
   ]
  },
  {
   "cell_type": "markdown",
   "id": "72ef2e7b-4319-4cf7-8ffa-753a4e3d2e53",
   "metadata": {},
   "source": [
    "6. For the Element class, define a method called dump() that prints the values of the object’s attributes (name, symbol, and number). Create the hydrogen object from this new definition and use dump() to print its attributes."
   ]
  },
  {
   "cell_type": "code",
   "execution_count": 15,
   "id": "09cb8de9-6cb6-4f58-b43d-27aee1ae01c8",
   "metadata": {},
   "outputs": [],
   "source": [
    "class Element:\n",
    "    def __init__(self, name, symbol, number):\n",
    "        self.name = name\n",
    "        self.symbol = symbol\n",
    "        self.number = number\n",
    "        \n",
    "    def dump(self):\n",
    "        print(f'name = {self.name}, symbol = {self.symbol}, number = {self.number}')"
   ]
  },
  {
   "cell_type": "code",
   "execution_count": 16,
   "id": "ece06141-59ad-4216-bc91-f5465f2d4f8b",
   "metadata": {},
   "outputs": [],
   "source": [
    "hydrogen = Element('Hydrogen', 'H', 1)"
   ]
  },
  {
   "cell_type": "code",
   "execution_count": 17,
   "id": "945a3a4f-55b8-4e5f-bec8-971ca683f472",
   "metadata": {},
   "outputs": [
    {
     "name": "stdout",
     "output_type": "stream",
     "text": [
      "<__main__.Element object at 0x7fb43e695750>\n"
     ]
    }
   ],
   "source": [
    "print(hydrogen)"
   ]
  },
  {
   "cell_type": "code",
   "execution_count": 18,
   "id": "6e844bfb-bd67-4e13-9b09-c14824e9094b",
   "metadata": {},
   "outputs": [
    {
     "name": "stdout",
     "output_type": "stream",
     "text": [
      "name = Hydrogen, symbol = H, number = 1\n"
     ]
    }
   ],
   "source": [
    "hydrogen.dump()"
   ]
  },
  {
   "cell_type": "markdown",
   "id": "76b82bd1-14b0-4a79-b75f-6164714e3bf4",
   "metadata": {},
   "source": [
    "7. Call print(hydrogen). In the definition of Element, change the name of method dump to str, create a new hydrogen object, and call print(hydrogen) again."
   ]
  },
  {
   "cell_type": "code",
   "execution_count": 19,
   "id": "6849c887-db96-45f1-b941-5d0905303ed9",
   "metadata": {},
   "outputs": [],
   "source": [
    "class Element:\n",
    "    def __init__(self, name, symbol, number):\n",
    "        self.name = name\n",
    "        self.symbol = symbol\n",
    "        self.number = number\n",
    "        \n",
    "    def __str__(self):\n",
    "        return (f'name = {self.name}, symbol = {self.symbol}, number = {self.number}')"
   ]
  },
  {
   "cell_type": "code",
   "execution_count": 20,
   "id": "d51bb824-aafd-4082-91b2-29d270cc1883",
   "metadata": {},
   "outputs": [],
   "source": [
    "hydrogen = Element('Hydrogen', 'H', 1)"
   ]
  },
  {
   "cell_type": "code",
   "execution_count": 21,
   "id": "f3b1d847-27cd-46f3-8eae-2d5ca4c08bfe",
   "metadata": {},
   "outputs": [
    {
     "name": "stdout",
     "output_type": "stream",
     "text": [
      "name = Hydrogen, symbol = H, number = 1\n"
     ]
    }
   ],
   "source": [
    "print(hydrogen)"
   ]
  },
  {
   "cell_type": "markdown",
   "id": "1e87c8d8-44e4-401e-868e-2b29648cf368",
   "metadata": {},
   "source": [
    "8. Modify Element to make the attributes name, symbol, and number private. Define a getter property for each to return its value."
   ]
  },
  {
   "cell_type": "code",
   "execution_count": 22,
   "id": "35f8c671-0c15-49c3-ba0c-f9c524666b5a",
   "metadata": {},
   "outputs": [],
   "source": [
    "class Element:\n",
    "    def __init__(self, name, symbol, number):\n",
    "        self.__name = name\n",
    "        self.__symbol = symbol\n",
    "        self.__number = number\n",
    "        \n",
    "    def getName(self):\n",
    "        return self.__name\n",
    "    \n",
    "    def getSymbol(self):\n",
    "        return self.__symbol\n",
    "    \n",
    "    def getNumber(self):\n",
    "        return self.__number\n",
    "        \n",
    "    def __str__(self):\n",
    "        return (f'name = {self.__name}, symbol = {self.__symbol}, number = {self.__number}')"
   ]
  },
  {
   "cell_type": "code",
   "execution_count": 23,
   "id": "ce04c900-366b-4752-9e2f-6afbd6c0a2d2",
   "metadata": {},
   "outputs": [],
   "source": [
    "hydrogen = Element('Hydrogen', 'H', 1)"
   ]
  },
  {
   "cell_type": "code",
   "execution_count": 24,
   "id": "1b6fae1b-5f76-4635-91de-83658409833f",
   "metadata": {},
   "outputs": [
    {
     "data": {
      "text/plain": [
       "'Hydrogen'"
      ]
     },
     "execution_count": 24,
     "metadata": {},
     "output_type": "execute_result"
    }
   ],
   "source": [
    "hydrogen.getName()"
   ]
  },
  {
   "cell_type": "markdown",
   "id": "39cd4f9a-a3a1-4ea9-aaf7-591bc3ab7adb",
   "metadata": {},
   "source": [
    "9. Define three classes: Bear, Rabbit, and Octothorpe. For each, define only one method: eats(). This should return 'berries' (Bear), 'clover' (Rabbit), or 'campers' (Octothorpe). Create one object from each and print what it eats."
   ]
  },
  {
   "cell_type": "code",
   "execution_count": 25,
   "id": "0655888f-69d5-4f6a-b471-afb4179f5038",
   "metadata": {},
   "outputs": [],
   "source": [
    "class Bear:\n",
    "    def eats(self):\n",
    "        return 'berries'\n",
    "\n",
    "class Rabbit:\n",
    "    def eats(self):\n",
    "        return 'clover'\n",
    "\n",
    "class Octothorpe:\n",
    "    def eats(self):\n",
    "        return 'campers'"
   ]
  },
  {
   "cell_type": "code",
   "execution_count": 26,
   "id": "1acd326e-0e9a-4d0e-bee5-0836aaa657cd",
   "metadata": {},
   "outputs": [
    {
     "data": {
      "text/plain": [
       "'berries'"
      ]
     },
     "execution_count": 26,
     "metadata": {},
     "output_type": "execute_result"
    }
   ],
   "source": [
    "b = Bear()\n",
    "b.eats()"
   ]
  },
  {
   "cell_type": "code",
   "execution_count": 27,
   "id": "605a99c1-897e-477e-ab9b-67bce8be6656",
   "metadata": {},
   "outputs": [
    {
     "data": {
      "text/plain": [
       "'clover'"
      ]
     },
     "execution_count": 27,
     "metadata": {},
     "output_type": "execute_result"
    }
   ],
   "source": [
    "r = Rabbit()\n",
    "r.eats()"
   ]
  },
  {
   "cell_type": "code",
   "execution_count": 28,
   "id": "63c544a0-5604-424b-adeb-ad8f6cda4ee2",
   "metadata": {},
   "outputs": [
    {
     "data": {
      "text/plain": [
       "'campers'"
      ]
     },
     "execution_count": 28,
     "metadata": {},
     "output_type": "execute_result"
    }
   ],
   "source": [
    "o = Octothorpe()\n",
    "o.eats()"
   ]
  },
  {
   "cell_type": "markdown",
   "id": "8af5bec0-fa24-421f-bada-22e635040012",
   "metadata": {},
   "source": [
    "10. Define these classes: Laser, Claw, and SmartPhone. Each has only one method: does(). This returns 'disintegrate' (Laser), 'crush' (Claw), or 'ring' (SmartPhone). Then, define the class Robot that has one instance (object) of each of these. Define a does() method for the Robot that prints what its component objects do."
   ]
  },
  {
   "cell_type": "code",
   "execution_count": 29,
   "id": "8562523f-f9bc-48a5-8b8d-6e1fda8f632b",
   "metadata": {},
   "outputs": [],
   "source": [
    "class Laser:\n",
    "    def does(self):\n",
    "        return 'disintegrate'\n",
    "    \n",
    "class Claw:\n",
    "    def does(self):\n",
    "        return 'crush'\n",
    "    \n",
    "class SmartPhone:\n",
    "    def does(self):\n",
    "        return 'ring'\n",
    "    \n",
    "class Robot:\n",
    "    def __init__(self):\n",
    "        self.laser = Laser()\n",
    "        self.claw = Claw()\n",
    "        self.smartphone = SmartPhone()\n",
    "        \n",
    "    def does(self):\n",
    "        return '''I have many attachments:\n",
    "        My laser, to %s.\n",
    "        My claw, to %s.\n",
    "        My smartphone, to %s.''' % (self.laser.does(),self.claw.does(),self.smartphone.does() )"
   ]
  },
  {
   "cell_type": "code",
   "execution_count": 30,
   "id": "54f4a74c-bc05-48f6-a1b2-6aa64f992864",
   "metadata": {},
   "outputs": [
    {
     "name": "stdout",
     "output_type": "stream",
     "text": [
      "I have many attachments:\n",
      "        My laser, to disintegrate.\n",
      "        My claw, to crush.\n",
      "        My smartphone, to ring.\n"
     ]
    }
   ],
   "source": [
    "r = Robot()\n",
    "print(r.does())"
   ]
  },
  {
   "cell_type": "code",
   "execution_count": null,
   "id": "0de5e00c-4ad6-4cd3-8adf-0f2b73600a61",
   "metadata": {},
   "outputs": [],
   "source": []
  }
 ],
 "metadata": {
  "kernelspec": {
   "display_name": "Python 3 (ipykernel)",
   "language": "python",
   "name": "python3"
  },
  "language_info": {
   "codemirror_mode": {
    "name": "ipython",
    "version": 3
   },
   "file_extension": ".py",
   "mimetype": "text/x-python",
   "name": "python",
   "nbconvert_exporter": "python",
   "pygments_lexer": "ipython3",
   "version": "3.10.6"
  }
 },
 "nbformat": 4,
 "nbformat_minor": 5
}
