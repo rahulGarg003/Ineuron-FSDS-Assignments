{
 "cells": [
  {
   "cell_type": "markdown",
   "id": "e74de281-fe0d-4b28-8d1e-fa9935b0ae21",
   "metadata": {},
   "source": [
    "# Python Programming Assignment - 4\n",
    "1. Write a Python Program to Find the Factorial of a Number?\n",
    "2. Write a Python Program to Display the multiplication Table?\n",
    "3. Write a Python Program to Print the Fibonacci sequence?\n",
    "4. Write a Python Program to Check Armstrong Number?\n",
    "5. Write a Python Program to Find Armstrong Number in an Interval?\n",
    "6. Write a Python Program to Find the Sum of Natural Numbers?"
   ]
  },
  {
   "cell_type": "markdown",
   "id": "1ebea875-2eab-4840-8ecd-fe64312e1ad9",
   "metadata": {},
   "source": [
    "1. Write a Python Program to Find the Factorial of a Number?"
   ]
  },
  {
   "cell_type": "code",
   "execution_count": 8,
   "id": "0dca4031-c546-4816-8495-f51d4f9400a9",
   "metadata": {},
   "outputs": [
    {
     "name": "stdout",
     "output_type": "stream",
     "text": [
      "factorial of number 2 = 2\n",
      "factorial of number 5 = 120\n",
      "factorial of number 6 = 720\n",
      "factorial of number 3 = 6\n",
      "factorial of number 8 = 40320\n"
     ]
    }
   ],
   "source": [
    "def factorial_of_number(num):\n",
    "    if(num == 1):\n",
    "        return 1\n",
    "    return num * factorial_of_number(num-1)\n",
    "\n",
    "lst = [2,5,6,3,8]\n",
    "\n",
    "for l in lst:\n",
    "    print(f\"factorial of number {l} = {factorial_of_number(l)}\")\n"
   ]
  },
  {
   "cell_type": "markdown",
   "id": "28bc6890-d7e7-4abe-9614-fa21cf47b2b7",
   "metadata": {},
   "source": [
    "2. Write a Python Program to Display the multiplication Table?"
   ]
  },
  {
   "cell_type": "code",
   "execution_count": 9,
   "id": "b6698597-5582-4f8f-ba16-46f5d6e48ad2",
   "metadata": {},
   "outputs": [
    {
     "name": "stdin",
     "output_type": "stream",
     "text": [
      "Enter a number:  56\n"
     ]
    },
    {
     "name": "stdout",
     "output_type": "stream",
     "text": [
      "56 x 1 = 56\n",
      "56 x 2 = 112\n",
      "56 x 3 = 168\n",
      "56 x 4 = 224\n",
      "56 x 5 = 280\n",
      "56 x 6 = 336\n",
      "56 x 7 = 392\n",
      "56 x 8 = 448\n",
      "56 x 9 = 504\n",
      "56 x 10 = 560\n"
     ]
    }
   ],
   "source": [
    "# Get the number for which the multiplication table needs to be displayed\n",
    "num = int(input(\"Enter a number: \"))\n",
    "\n",
    "# Use a for loop to iterate over the range of 1 to 11\n",
    "for i in range(1, 11):\n",
    "   # Calculate the product of the number and the iterator variable\n",
    "   product = num * i\n",
    "   # Print the product\n",
    "   print(f\"{num} x {i} = {product}\")\n"
   ]
  },
  {
   "cell_type": "markdown",
   "id": "3627ab5e-7500-4324-b789-206705561531",
   "metadata": {},
   "source": [
    "3. Write a Python Program to Print the Fibonacci sequence?"
   ]
  },
  {
   "cell_type": "code",
   "execution_count": 10,
   "id": "753db1ce-0474-48e9-a635-d95389b597c2",
   "metadata": {},
   "outputs": [
    {
     "name": "stdin",
     "output_type": "stream",
     "text": [
      "Enter the number of terms:  10\n"
     ]
    },
    {
     "name": "stdout",
     "output_type": "stream",
     "text": [
      "0 1 1 2 3 5 8 13 21 34 "
     ]
    }
   ],
   "source": [
    "def fibonacci(num_terms):\n",
    "   # Base case\n",
    "   if num_terms <= 1:\n",
    "      return num_terms\n",
    "   # Recursive case\n",
    "   else:\n",
    "      return fibonacci(num_terms-1) + fibonacci(num_terms-2)\n",
    "\n",
    "# Get the number of terms to print\n",
    "num_terms = int(input(\"Enter the number of terms: \"))\n",
    "\n",
    "# Use a for loop to print the terms\n",
    "for i in range(num_terms):\n",
    "   print(fibonacci(i), end=' ')\n"
   ]
  },
  {
   "cell_type": "markdown",
   "id": "0c398cfc-cb45-4965-aaf4-46f551131833",
   "metadata": {},
   "source": [
    "4. Write a Python Program to Check Armstrong Number?"
   ]
  },
  {
   "cell_type": "code",
   "execution_count": 11,
   "id": "a3e08339-4b4f-41aa-9604-770eb63a9231",
   "metadata": {},
   "outputs": [
    {
     "name": "stdin",
     "output_type": "stream",
     "text": [
      "Enter a number:  371\n"
     ]
    },
    {
     "name": "stdout",
     "output_type": "stream",
     "text": [
      "371 is an Armstrong number\n"
     ]
    }
   ],
   "source": [
    "# Get the number to check\n",
    "num = int(input(\"Enter a number: \"))\n",
    "\n",
    "# Calculate the number of digits in the number\n",
    "num_digits = len(str(num))\n",
    "\n",
    "# Initialize a variable to store the sum of the digits\n",
    "sum_digits = 0\n",
    "\n",
    "# Iterate over the digits of the number\n",
    "temp = num\n",
    "while temp > 0:\n",
    "   # Get the last digit of the number\n",
    "   last_digit = temp % 10\n",
    "   # Add the last digit to the sum\n",
    "   sum_digits += last_digit**num_digits\n",
    "   # Remove the last digit from the number\n",
    "   temp //= 10\n",
    "\n",
    "# Check if the number is an Armstrong number\n",
    "if num == sum_digits:\n",
    "   print(f\"{num} is an Armstrong number\")\n",
    "else:\n",
    "   print(f\"{num} is not an Armstrong number\")\n"
   ]
  },
  {
   "cell_type": "markdown",
   "id": "1ad80953-bea5-42d0-8131-a42e45da7197",
   "metadata": {},
   "source": [
    "5. Write a Python Program to Find Armstrong Number in an Interval?"
   ]
  },
  {
   "cell_type": "code",
   "execution_count": 14,
   "id": "6b65f2ea-4b0c-4773-89cd-3faf0b72c40f",
   "metadata": {},
   "outputs": [
    {
     "name": "stdin",
     "output_type": "stream",
     "text": [
      "Enter the start of the interval:  1\n",
      "Enter the end of the interval:  999\n"
     ]
    },
    {
     "name": "stdout",
     "output_type": "stream",
     "text": [
      "1 is an Armstrong number\n",
      "153 is an Armstrong number\n",
      "370 is an Armstrong number\n",
      "371 is an Armstrong number\n",
      "407 is an Armstrong number\n"
     ]
    }
   ],
   "source": [
    "# Get the start and end of the interval\n",
    "start = int(input(\"Enter the start of the interval: \"))\n",
    "end = int(input(\"Enter the end of the interval: \"))\n",
    "\n",
    "# Calculate the number of digits in the interval\n",
    "num_digits = len(str(end))\n",
    "\n",
    "# Iterate over the range of numbers in the interval\n",
    "for num in range(start, end+1):\n",
    "   # Initialize a variable to store the sum of the digits\n",
    "   sum_digits = 0\n",
    "\n",
    "   # Iterate over the digits of the number\n",
    "   temp = num\n",
    "   while temp > 0:\n",
    "      # Get the last digit of the number\n",
    "      last_digit = temp % 10\n",
    "      # Add the last digit to the sum\n",
    "      sum_digits += last_digit**num_digits\n",
    "      # Remove the last digit from the number\n",
    "      temp //= 10\n",
    "\n",
    "   # Check if the number is an Armstrong number\n",
    "   if num == sum_digits:\n",
    "      print(f\"{num} is an Armstrong number\")\n"
   ]
  },
  {
   "cell_type": "markdown",
   "id": "97c4c479-9c41-4ea9-a4c4-d9772b4a990f",
   "metadata": {},
   "source": [
    "6. Write a Python Program to Find the Sum of Natural Numbers?"
   ]
  },
  {
   "cell_type": "code",
   "execution_count": 15,
   "id": "dd9a7045-3898-4dd2-aaf7-763b9c9e5430",
   "metadata": {},
   "outputs": [
    {
     "name": "stdin",
     "output_type": "stream",
     "text": [
      "Enter a number:  10\n"
     ]
    },
    {
     "name": "stdout",
     "output_type": "stream",
     "text": [
      "Sum of natural numbers up to 10: 55\n"
     ]
    }
   ],
   "source": [
    "# Get the number\n",
    "num = int(input(\"Enter a number: \"))\n",
    "\n",
    "# Initialize a variable to store the sum\n",
    "sum = 0\n",
    "\n",
    "# Use a for loop to iterate over the range of numbers\n",
    "for i in range(1, num+1):\n",
    "   # Add the current number to the sum\n",
    "   sum += i\n",
    "\n",
    "# Print the sum\n",
    "print(f\"Sum of natural numbers up to {num}: {sum}\")\n"
   ]
  },
  {
   "cell_type": "code",
   "execution_count": null,
   "id": "c39276c2-a5f8-41f2-a20f-6d1490794863",
   "metadata": {},
   "outputs": [],
   "source": []
  }
 ],
 "metadata": {
  "kernelspec": {
   "display_name": "Python 3 (ipykernel)",
   "language": "python",
   "name": "python3"
  },
  "language_info": {
   "codemirror_mode": {
    "name": "ipython",
    "version": 3
   },
   "file_extension": ".py",
   "mimetype": "text/x-python",
   "name": "python",
   "nbconvert_exporter": "python",
   "pygments_lexer": "ipython3",
   "version": "3.10.6"
  }
 },
 "nbformat": 4,
 "nbformat_minor": 5
}
