{
 "cells": [
  {
   "cell_type": "markdown",
   "id": "489123c2-c3df-4082-8bef-f7cbdbd241e0",
   "metadata": {},
   "source": [
    "# Python Programming Assignment - 11\n",
    "1. Write a Python program to find words which are greater than given length k?\n",
    "2. Write a Python program for removing i-th character from a string?\n",
    "3. Write a Python program to split and join a string?\n",
    "4. Write a Python to check if a given string is binary string or not?\n",
    "5. Write a Python program to find uncommon words from two Strings?\n",
    "6. Write a Python to find all duplicate characters in string?\n",
    "7. Write a Python Program to check if a string contains any special character?"
   ]
  },
  {
   "cell_type": "markdown",
   "id": "13dbb855-07b1-465a-8959-a2ebd4d3208c",
   "metadata": {},
   "source": [
    "1. Write a Python program to find words which are greater than given length k?"
   ]
  },
  {
   "cell_type": "code",
   "execution_count": 2,
   "id": "bd22c45c-2062-4082-86f2-76f84a1510e4",
   "metadata": {},
   "outputs": [
    {
     "name": "stdout",
     "output_type": "stream",
     "text": [
      "['elephant', 'giraffe']\n"
     ]
    }
   ],
   "source": [
    "# list of words\n",
    "words = ['cat', 'dog', 'mouse', 'elephant', 'giraffe']\n",
    "\n",
    "# length threshold\n",
    "k = 5\n",
    "\n",
    "# list to store words greater than k\n",
    "long_words = []\n",
    "\n",
    "# iterate over the list of words\n",
    "for word in words:\n",
    "  # check if the word is longer than k\n",
    "  if len(word) > k:\n",
    "    # if it is, add it to the list of long words\n",
    "    long_words.append(word)\n",
    "\n",
    "# print the list of long words\n",
    "print(long_words)  # prints ['elephant', 'giraffe']\n"
   ]
  },
  {
   "cell_type": "markdown",
   "id": "59f19b7e-f203-4a59-900d-268071c96818",
   "metadata": {},
   "source": [
    "2. Write a Python program for removing i-th character from a string?"
   ]
  },
  {
   "cell_type": "code",
   "execution_count": 3,
   "id": "8f39aa85-c0d4-4c59-9bac-28b108b0ae8d",
   "metadata": {},
   "outputs": [
    {
     "name": "stdout",
     "output_type": "stream",
     "text": [
      "Hello World!\n"
     ]
    }
   ],
   "source": [
    "# string to modify\n",
    "string = \"Hello, World!\"\n",
    "\n",
    "# index of character to remove\n",
    "i = 5\n",
    "\n",
    "# use string slicing to remove the character\n",
    "modified_string = string[:i] + string[i+1:]\n",
    "\n",
    "print(modified_string)  # prints \"Hello World!\"\n"
   ]
  },
  {
   "cell_type": "markdown",
   "id": "db2b5929-784a-4a19-b65c-73795b59c67a",
   "metadata": {},
   "source": [
    "3. Write a Python program to split and join a string?"
   ]
  },
  {
   "cell_type": "code",
   "execution_count": 4,
   "id": "cade10bf-74c7-4add-9d19-00aa53c334d2",
   "metadata": {},
   "outputs": [
    {
     "name": "stdout",
     "output_type": "stream",
     "text": [
      "['Hello', ' World!']\n"
     ]
    }
   ],
   "source": [
    "# string to split\n",
    "string = \"Hello, World!\"\n",
    "\n",
    "# split the string around the comma\n",
    "split_string = string.split(',')\n",
    "\n",
    "print(split_string)  # prints [\"Hello\", \" World!\"]\n"
   ]
  },
  {
   "cell_type": "code",
   "execution_count": 5,
   "id": "c783c339-75b4-40ee-951e-9369a308a599",
   "metadata": {},
   "outputs": [
    {
     "name": "stdout",
     "output_type": "stream",
     "text": [
      "Hello World\n"
     ]
    }
   ],
   "source": [
    "# list of strings to join\n",
    "strings = [\"Hello\", \"World\"]\n",
    "\n",
    "# join the strings with a space as the separator\n",
    "joined_string = ' '.join(strings)\n",
    "\n",
    "print(joined_string)  # prints \"Hello World\"\n"
   ]
  },
  {
   "cell_type": "markdown",
   "id": "aa628ee0-10d7-49cf-bc11-94ff50b2d462",
   "metadata": {},
   "source": [
    "4. Write a Python to check if a given string is binary string or not?"
   ]
  },
  {
   "cell_type": "code",
   "execution_count": 6,
   "id": "b50df583-5cf7-4258-9139-f3d5dbdda4e6",
   "metadata": {},
   "outputs": [
    {
     "name": "stdout",
     "output_type": "stream",
     "text": [
      "True\n",
      "False\n",
      "True\n",
      "True\n",
      "False\n"
     ]
    }
   ],
   "source": [
    "def is_binary(string):\n",
    "  # iterate over the characters in the string\n",
    "  for character in string:\n",
    "    # check if the character is not a '0' or '1'\n",
    "    if character != '0' and character != '1':\n",
    "      # if it is not, return False\n",
    "      return False\n",
    "  # if all characters are '0' or '1', return True\n",
    "  return True\n",
    "\n",
    "# test the function\n",
    "print(is_binary('10101'))  # prints True\n",
    "print(is_binary('abcdef'))  # prints False\n",
    "print(is_binary('0101010101'))  # prints True\n",
    "print(is_binary('1100101'))  # prints True\n",
    "print(is_binary('1010101a'))  # prints False\n"
   ]
  },
  {
   "cell_type": "markdown",
   "id": "30c68300-604b-4fe0-b4e8-453231a80745",
   "metadata": {},
   "source": [
    "5. Write a Python program to find uncommon words from two Strings?"
   ]
  },
  {
   "cell_type": "code",
   "execution_count": 7,
   "id": "78fd9487-bb16-4b76-8ded-7b491b753777",
   "metadata": {},
   "outputs": [
    {
     "name": "stdout",
     "output_type": "stream",
     "text": [
      "{'fox', 'cat'}\n"
     ]
    }
   ],
   "source": [
    "# first string\n",
    "string1 = \"The quick brown fox jumps over the lazy dog.\"\n",
    "\n",
    "# second string\n",
    "string2 = \"The quick brown cat jumps over the lazy dog.\"\n",
    "\n",
    "# split the strings into lists of words\n",
    "words1 = string1.split()\n",
    "words2 = string2.split()\n",
    "\n",
    "# convert the lists to sets\n",
    "set1 = set(words1)\n",
    "set2 = set(words2)\n",
    "\n",
    "# find the uncommon words using the symmetric_difference method\n",
    "uncommon_words = set1.symmetric_difference(set2)\n",
    "\n",
    "print(uncommon_words)  # prints {'fox', 'cat'}\n"
   ]
  },
  {
   "cell_type": "markdown",
   "id": "4eb4d8d6-a540-4ca0-a115-626f6c229a32",
   "metadata": {},
   "source": [
    "6. Write a Python to find all duplicate characters in string?"
   ]
  },
  {
   "cell_type": "code",
   "execution_count": 8,
   "id": "ba286257-0cf5-4091-b3e4-095d54109357",
   "metadata": {},
   "outputs": [
    {
     "name": "stdout",
     "output_type": "stream",
     "text": [
      "['l']\n",
      "['a', 'b', 'c']\n",
      "[]\n",
      "['a', 'b', 'c']\n",
      "['a', 'b', 'c']\n"
     ]
    }
   ],
   "source": [
    "def find_duplicates(string):\n",
    "  # create a dictionary to store the count of each character\n",
    "  char_count = {}\n",
    "  \n",
    "  # iterate over the characters in the string\n",
    "  for character in string:\n",
    "    # if the character is not in the dictionary, add it with a count of 1\n",
    "    if character not in char_count:\n",
    "      char_count[character] = 1\n",
    "    # if the character is already in the dictionary, increment its count\n",
    "    else:\n",
    "      char_count[character] += 1\n",
    "  \n",
    "  # create a list to store the duplicate characters\n",
    "  duplicates = []\n",
    "  \n",
    "  # iterate over the items in the dictionary\n",
    "  for char, count in char_count.items():\n",
    "    # if the count is greater than 1, add the character to the list of duplicates\n",
    "    if count > 1:\n",
    "      duplicates.append(char)\n",
    "  \n",
    "  return duplicates\n",
    "\n",
    "# test the function\n",
    "print(find_duplicates('hello'))  # prints []\n",
    "print(find_duplicates('abcabcabc'))  # prints ['a', 'b', 'c']\n",
    "print(find_duplicates('abcdefghijklmnopqrstuvwxyz'))  # prints []\n",
    "print(find_duplicates('aaabbbccc'))  # prints ['a', 'b', 'c']\n",
    "print(find_duplicates('abbcabbc'))  # prints ['a', 'b', 'c']\n"
   ]
  },
  {
   "cell_type": "code",
   "execution_count": 9,
   "id": "fb601622-692f-44b3-ab4a-385091db5f7d",
   "metadata": {},
   "outputs": [
    {
     "name": "stdout",
     "output_type": "stream",
     "text": [
      "['l']\n",
      "['a', 'b', 'c']\n",
      "[]\n",
      "['a', 'b', 'c']\n",
      "['a', 'b', 'c']\n"
     ]
    }
   ],
   "source": [
    "from collections import Counter\n",
    "\n",
    "def find_duplicates(string):\n",
    "  # create a Counter object to count the occurrences of each character\n",
    "  char_count = Counter(string)\n",
    "  \n",
    "  # create a list to store the duplicate characters\n",
    "  duplicates = []\n",
    "  \n",
    "  # iterate over the items in the Counter object\n",
    "  for char, count in char_count.items():\n",
    "    # if the count is greater than 1, add the character to the list of duplicates\n",
    "    if count > 1:\n",
    "      duplicates.append(char)\n",
    "  \n",
    "  return duplicates\n",
    "\n",
    "# test the function\n",
    "print(find_duplicates('hello'))  # prints []\n",
    "print(find_duplicates('abcabcabc'))  # prints ['a', 'b', 'c']\n",
    "print(find_duplicates('abcdefghijklmnopqrstuvwxyz'))  # prints []\n",
    "print(find_duplicates('aaabbbccc'))  # prints ['a', 'b', 'c']\n",
    "print(find_duplicates('abbcabbc'))  # prints ['a', 'b', 'c']\n"
   ]
  },
  {
   "cell_type": "markdown",
   "id": "02d1c566-b990-47bf-ab9e-e9962c32d383",
   "metadata": {},
   "source": [
    "7. Write a Python Program to check if a string contains any special character?"
   ]
  },
  {
   "cell_type": "code",
   "execution_count": 10,
   "id": "319a72c9-682d-4093-b144-a5f8ce770f5e",
   "metadata": {},
   "outputs": [
    {
     "name": "stdout",
     "output_type": "stream",
     "text": [
      "False\n",
      "True\n",
      "False\n",
      "True\n",
      "True\n"
     ]
    }
   ],
   "source": [
    "def contains_special(string):\n",
    "  # list of special characters\n",
    "  special_chars = ['!', '@', '#', '$', '%', '^', '&', '*', '(', ')', '-', '_', '=', '+', '[', ']', '{', '}', '\\\\', '|', ';', ':', '\"', \"'\", ',', '<', '>', '.', '/', '?']\n",
    "  \n",
    "  # iterate over the characters in the string\n",
    "  for character in string:\n",
    "    # check if the character is in the list of special characters\n",
    "    if character in special_chars:\n",
    "      # if it is, return True\n",
    "      return True\n",
    "  # if no special characters were found, return False\n",
    "  return False\n",
    "\n",
    "# test the function\n",
    "print(contains_special('hello'))  # prints False\n",
    "print(contains_special('hello!'))  # prints True\n",
    "print(contains_special('abc123'))  # prints False\n",
    "print(contains_special('abc!123'))  # prints True\n",
    "print(contains_special('abc123?'))  # prints True\n"
   ]
  },
  {
   "cell_type": "code",
   "execution_count": 11,
   "id": "62492d90-2d6e-4a6b-b84f-cb11c7394622",
   "metadata": {},
   "outputs": [
    {
     "name": "stdout",
     "output_type": "stream",
     "text": [
      "False\n",
      "True\n",
      "False\n",
      "True\n",
      "True\n"
     ]
    }
   ],
   "source": [
    "import re\n",
    "\n",
    "def contains_special(string):\n",
    "  # regular expression to match any special character\n",
    "  pattern = r'[^A-Za-z0-9]'\n",
    "  \n",
    "  # use the search function to check for a match\n",
    "  match = re.search(pattern, string)\n",
    "  \n",
    "  # if a match is found, return True\n",
    "  if match:\n",
    "    return True\n",
    "  # if no match is found, return False\n",
    "  else:\n",
    "    return False\n",
    "\n",
    "# test the function\n",
    "print(contains_special('hello'))  # prints False\n",
    "print(contains_special('hello!'))  # prints True\n",
    "print(contains_special('abc123'))  # prints False\n",
    "print(contains_special('abc!123'))  # prints True\n",
    "print(contains_special('abc123?'))  # prints True\n"
   ]
  },
  {
   "cell_type": "code",
   "execution_count": null,
   "id": "19f05a97-672b-4fe7-81ff-2d01c9b09767",
   "metadata": {},
   "outputs": [],
   "source": []
  }
 ],
 "metadata": {
  "kernelspec": {
   "display_name": "Python 3 (ipykernel)",
   "language": "python",
   "name": "python3"
  },
  "language_info": {
   "codemirror_mode": {
    "name": "ipython",
    "version": 3
   },
   "file_extension": ".py",
   "mimetype": "text/x-python",
   "name": "python",
   "nbconvert_exporter": "python",
   "pygments_lexer": "ipython3",
   "version": "3.10.6"
  }
 },
 "nbformat": 4,
 "nbformat_minor": 5
}
