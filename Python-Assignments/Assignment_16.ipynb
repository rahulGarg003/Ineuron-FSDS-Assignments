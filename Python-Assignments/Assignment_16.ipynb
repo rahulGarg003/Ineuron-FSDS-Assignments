{
 "cells": [
  {
   "cell_type": "markdown",
   "id": "08c546e4-0ab7-45a5-bc5d-b3f7bb9e28aa",
   "metadata": {},
   "source": [
    "# Python Assignment - 16\n",
    "1. Create a list called years_list, starting with the year of your birth, and each year thereafter until\n",
    "the year of your fifth birthday. For example, if you were born in 1980. the list would be years_list =\n",
    "[1980, 1981, 1982, 1983, 1984, 1985].\n",
    "2. In which year in years_list was your third birthday? Remember, you were 0 years of age for your\n",
    "first year.\n",
    "3.In the years list, which year were you the oldest?\n",
    "4. Make a list called things with these three strings as elements: &quot;mozzarella&quot;, &quot;cinderella&quot;,\n",
    "&quot;salmonella&quot;.\n",
    "5. Capitalize the element in things that refers to a person and then print the list. Did it change the\n",
    "element in the list?\n",
    "6. Make a surprise list with the elements &quot;Groucho,&quot; &quot;Chico,&quot; and &quot;Harpo.&quot;\n",
    "7. Lowercase the last element of the surprise list, reverse it, and then capitalize it.\n",
    "8. Make an English-to-French dictionary called e2f and print it. Here are your starter words: dog is\n",
    "chien, cat is chat, and walrus is morse.\n",
    "9. Write the French word for walrus in your three-word dictionary e2f.\n",
    "10. Make a French-to-English dictionary called f2e from e2f. Use the items method.\n",
    "11. Print the English version of the French word chien using f2e.\n",
    "12. Make and print a set of English words from the keys in e2f.\n",
    "13. Make a multilevel dictionary called life. Use these strings for the topmost keys: &#39;animals&#39;, &#39;plants&#39;,\n",
    "and &#39;other&#39;. Make the &#39;animals&#39; key refer to another dictionary with the keys &#39;cats&#39;, &#39;octopi&#39;, and\n",
    "&#39;emus&#39;. Make the &#39;cats&#39; key refer to a list of strings with the values &#39;Henri&#39;, &#39;Grumpy&#39;, and &#39;Lucy&#39;.\n",
    "Make all the other keys refer to empty dictionaries.\n",
    "14. Print the top-level keys of life.\n",
    "15. Print the keys for life[&#39;animals&#39;].\n",
    "16. Print the values for life[&#39;animals&#39;][&#39;cats&#39;]"
   ]
  },
  {
   "cell_type": "code",
   "execution_count": null,
   "id": "c7e1af5a-f1e9-4c39-bf01-1a9ed609f672",
   "metadata": {},
   "outputs": [],
   "source": []
  },
  {
   "cell_type": "markdown",
   "id": "8515dc93-84af-451f-8f1c-d843ff5a115a",
   "metadata": {},
   "source": [
    "1. Create a list called years_list, starting with the year of your birth, and each year thereafter until the year of your fifth birthday. For example, if you were born in 1980. the list would be years_list = [1980, 1981, 1982, 1983, 1984, 1985]."
   ]
  },
  {
   "cell_type": "code",
   "execution_count": 3,
   "id": "241935d0-bfe3-4431-a58c-3861ea2c55d0",
   "metadata": {},
   "outputs": [],
   "source": [
    "def genYears(birthYear):\n",
    "    years_list = []\n",
    "    for i in range(1990, 1990+6):\n",
    "        years_list.append(i)\n",
    "    return years_list"
   ]
  },
  {
   "cell_type": "code",
   "execution_count": 5,
   "id": "0a79ff92-b8ee-4106-8a06-a92e66248566",
   "metadata": {},
   "outputs": [],
   "source": [
    "years = genYears(birthYear=1990)"
   ]
  },
  {
   "cell_type": "code",
   "execution_count": 6,
   "id": "6915892d-2ba3-4281-89fd-d19974824250",
   "metadata": {},
   "outputs": [
    {
     "data": {
      "text/plain": [
       "[1990, 1991, 1992, 1993, 1994, 1995]"
      ]
     },
     "execution_count": 6,
     "metadata": {},
     "output_type": "execute_result"
    }
   ],
   "source": [
    "years"
   ]
  },
  {
   "cell_type": "markdown",
   "id": "5e874395-8ed6-4b30-b148-5a8fdce8df54",
   "metadata": {},
   "source": [
    "2. In which year in years_list was your third birthday? Remember, you were 0 years of age for your first year. 3.In the years list, which year were you the oldest?"
   ]
  },
  {
   "cell_type": "code",
   "execution_count": 7,
   "id": "cadd0ccb-2ee9-4df5-9fb4-8a854f8e4a2b",
   "metadata": {},
   "outputs": [
    {
     "data": {
      "text/plain": [
       "1993"
      ]
     },
     "execution_count": 7,
     "metadata": {},
     "output_type": "execute_result"
    }
   ],
   "source": [
    "years[3]"
   ]
  },
  {
   "cell_type": "markdown",
   "id": "49c5f739-7bd2-495d-861a-1293c7c61c18",
   "metadata": {},
   "source": [
    "3. Make a list called things with these three strings as elements: \"mozzarella\", \"cinderella\", \"salmonella\"."
   ]
  },
  {
   "cell_type": "code",
   "execution_count": 8,
   "id": "5b8f16ce-7e8e-44ab-84b8-9a01c3dff70a",
   "metadata": {},
   "outputs": [],
   "source": [
    "things = [\"mozzarella\", \"cinderella\", \"salmonella\"]"
   ]
  },
  {
   "cell_type": "markdown",
   "id": "fc6ee71d-36ae-49b4-ad28-baf1a03f8f5a",
   "metadata": {},
   "source": [
    "4. Capitalize the element in things that refers to a person and then print the list. Did it change the element in the list?"
   ]
  },
  {
   "cell_type": "code",
   "execution_count": 10,
   "id": "6ae9e0f3-5f8a-4ac1-a4f8-25797c232007",
   "metadata": {},
   "outputs": [],
   "source": [
    "things = list(map(lambda x: x.capitalize(), things))"
   ]
  },
  {
   "cell_type": "code",
   "execution_count": 11,
   "id": "1485043f-9b8b-412a-bea5-5f4b7c4bb985",
   "metadata": {},
   "outputs": [
    {
     "data": {
      "text/plain": [
       "['Mozzarella', 'Cinderella', 'Salmonella']"
      ]
     },
     "execution_count": 11,
     "metadata": {},
     "output_type": "execute_result"
    }
   ],
   "source": [
    "things"
   ]
  },
  {
   "cell_type": "markdown",
   "id": "3d463029-1143-437c-8304-b647de3c283e",
   "metadata": {},
   "source": [
    "5. Make a surprise list with the elements \"Groucho,\" \"Chico,\" and \"Harpo.\""
   ]
  },
  {
   "cell_type": "code",
   "execution_count": 12,
   "id": "c1602a21-8729-467b-8210-fbf33786a386",
   "metadata": {},
   "outputs": [],
   "source": [
    "surprise = [\"Groucho\", \"Chico,\", \"Harpo\"]"
   ]
  },
  {
   "cell_type": "markdown",
   "id": "6ce1025f-924b-40a4-8cdc-5346cbc16f2f",
   "metadata": {},
   "source": [
    "6. Lowercase the last element of the surprise list, reverse it, and then capitalize it."
   ]
  },
  {
   "cell_type": "code",
   "execution_count": 22,
   "id": "e4d03b1b-fa6b-42b2-8ebd-fbcc4d33b3af",
   "metadata": {},
   "outputs": [],
   "source": [
    "surprise[-1] = surprise[-1].lower()[::-1].capitalize()"
   ]
  },
  {
   "cell_type": "code",
   "execution_count": 23,
   "id": "ee1f2072-c9e5-4701-b894-c301c49ba413",
   "metadata": {},
   "outputs": [
    {
     "data": {
      "text/plain": [
       "['Groucho', 'Chico,', 'Oprah']"
      ]
     },
     "execution_count": 23,
     "metadata": {},
     "output_type": "execute_result"
    }
   ],
   "source": [
    "surprise"
   ]
  },
  {
   "cell_type": "markdown",
   "id": "81363fb6-238d-4c61-8574-269f045c3d81",
   "metadata": {},
   "source": [
    "7. Make an English-to-French dictionary called e2f and print it. Here are your starter words: dog is chien, cat is chat, and walrus is morse."
   ]
  },
  {
   "cell_type": "code",
   "execution_count": 24,
   "id": "882bb0d2-a7f0-4c1e-b315-b426cf78e671",
   "metadata": {},
   "outputs": [],
   "source": [
    "e2f = {\n",
    "    'dog' : 'chien', \n",
    "    'cat' : 'chat',\n",
    "    'walrus' : 'morse'\n",
    "}"
   ]
  },
  {
   "cell_type": "code",
   "execution_count": 25,
   "id": "73006d7c-256b-490f-b200-76504e8ceffa",
   "metadata": {},
   "outputs": [
    {
     "data": {
      "text/plain": [
       "{'dog': 'chien', 'cat': 'chat', 'walrus': 'morse'}"
      ]
     },
     "execution_count": 25,
     "metadata": {},
     "output_type": "execute_result"
    }
   ],
   "source": [
    "e2f"
   ]
  },
  {
   "cell_type": "markdown",
   "id": "66916901-d2b4-4d53-8b70-2df3604a87c7",
   "metadata": {},
   "source": [
    "8. Write the French word for walrus in your three-word dictionary e2f."
   ]
  },
  {
   "cell_type": "code",
   "execution_count": 26,
   "id": "50eb3561-391d-4e2c-b703-0836c4d920f7",
   "metadata": {},
   "outputs": [
    {
     "data": {
      "text/plain": [
       "'morse'"
      ]
     },
     "execution_count": 26,
     "metadata": {},
     "output_type": "execute_result"
    }
   ],
   "source": [
    "e2f['walrus']"
   ]
  },
  {
   "cell_type": "markdown",
   "id": "dd5b3d09-165b-4f32-9f42-f12ec4ec0473",
   "metadata": {},
   "source": [
    "9. Make a French-to-English dictionary called f2e from e2f. Use the items method."
   ]
  },
  {
   "cell_type": "code",
   "execution_count": 27,
   "id": "9f55825c-8427-4aeb-89d9-681efb8485ff",
   "metadata": {},
   "outputs": [
    {
     "data": {
      "text/plain": [
       "{'chien': 'dog', 'chat': 'cat', 'morse': 'walrus'}"
      ]
     },
     "execution_count": 27,
     "metadata": {},
     "output_type": "execute_result"
    }
   ],
   "source": [
    "f2e = {}\n",
    "for key, value in e2f.items():\n",
    "    f2e[value] = key\n",
    "f2e"
   ]
  },
  {
   "cell_type": "markdown",
   "id": "48b6077d-2a53-4b0e-badb-1a3442fdd4cf",
   "metadata": {},
   "source": [
    "10. Print the English version of the French word chien using f2e."
   ]
  },
  {
   "cell_type": "code",
   "execution_count": 28,
   "id": "97847067-6549-46ec-9a9f-bf3496907d58",
   "metadata": {},
   "outputs": [
    {
     "data": {
      "text/plain": [
       "'dog'"
      ]
     },
     "execution_count": 28,
     "metadata": {},
     "output_type": "execute_result"
    }
   ],
   "source": [
    "f2e['chien']"
   ]
  },
  {
   "cell_type": "markdown",
   "id": "aca6d033-3135-4d45-b100-d3695866c4df",
   "metadata": {},
   "source": [
    "11. Make and print a set of English words from the keys in e2f."
   ]
  },
  {
   "cell_type": "code",
   "execution_count": 31,
   "id": "c0f439da-69e1-491c-bc60-ea7a692f24d7",
   "metadata": {},
   "outputs": [
    {
     "data": {
      "text/plain": [
       "{'cat', 'dog', 'walrus'}"
      ]
     },
     "execution_count": 31,
     "metadata": {},
     "output_type": "execute_result"
    }
   ],
   "source": [
    "set(e2f.keys())"
   ]
  },
  {
   "cell_type": "markdown",
   "id": "0f14100a-0f9b-4512-9a9d-a0dc3d6d9467",
   "metadata": {},
   "source": [
    "12. Make a multilevel dictionary called life. Use these strings for the topmost keys: 'animals', 'plants', and 'other'. Make the 'animals' key refer to another dictionary with the keys 'cats', 'octopi', and 'emus'. Make the 'cats' key refer to a list of strings with the values 'Henri', 'Grumpy', and 'Lucy'. Make all the other keys refer to empty dictionaries."
   ]
  },
  {
   "cell_type": "code",
   "execution_count": 33,
   "id": "c1a1e556-b0a2-4744-a2ab-2df9fcec628b",
   "metadata": {},
   "outputs": [],
   "source": [
    "life = {\n",
    "    'animals' : {\n",
    "        'cats' : ['Henri','Grumpy','Lucy'],\n",
    "        'octopi': {},\n",
    "        'emus' : {}\n",
    "    },\n",
    "    'plants' : {},\n",
    "    'other' : {}\n",
    "}"
   ]
  },
  {
   "cell_type": "code",
   "execution_count": 34,
   "id": "ecf0528e-a362-4b91-94cd-c016421b8b69",
   "metadata": {},
   "outputs": [
    {
     "data": {
      "text/plain": [
       "{'animals': {'cats': ['Henri', 'Grumpy', 'Lucy'], 'octopi': {}, 'emus': {}},\n",
       " 'plants': {},\n",
       " 'other': {}}"
      ]
     },
     "execution_count": 34,
     "metadata": {},
     "output_type": "execute_result"
    }
   ],
   "source": [
    "life"
   ]
  },
  {
   "cell_type": "markdown",
   "id": "a323e1c7-522c-4362-b873-70e479114df8",
   "metadata": {},
   "source": [
    "13. Print the top-level keys of life."
   ]
  },
  {
   "cell_type": "code",
   "execution_count": 37,
   "id": "6c974aba-5334-4227-8c52-4c6e8759f2af",
   "metadata": {},
   "outputs": [
    {
     "data": {
      "text/plain": [
       "['animals', 'plants', 'other']"
      ]
     },
     "execution_count": 37,
     "metadata": {},
     "output_type": "execute_result"
    }
   ],
   "source": [
    "list(life.keys())"
   ]
  },
  {
   "cell_type": "markdown",
   "id": "f56bb37c-6ede-439e-bd3f-ce22d1de9156",
   "metadata": {},
   "source": [
    "14. Print the keys for life['animals']."
   ]
  },
  {
   "cell_type": "code",
   "execution_count": 38,
   "id": "7a324a0f-0886-4b34-86ed-e74fea2415eb",
   "metadata": {},
   "outputs": [
    {
     "data": {
      "text/plain": [
       "dict_keys(['cats', 'octopi', 'emus'])"
      ]
     },
     "execution_count": 38,
     "metadata": {},
     "output_type": "execute_result"
    }
   ],
   "source": [
    "life['animals'].keys()"
   ]
  },
  {
   "cell_type": "markdown",
   "id": "edb75a9a-e41b-46b3-9cfa-977a2f983d86",
   "metadata": {},
   "source": [
    "15. Print the values for life['animals']['cats']"
   ]
  },
  {
   "cell_type": "code",
   "execution_count": 39,
   "id": "5d105628-0ddc-41d1-9534-ee2efd5476c4",
   "metadata": {},
   "outputs": [
    {
     "data": {
      "text/plain": [
       "['Henri', 'Grumpy', 'Lucy']"
      ]
     },
     "execution_count": 39,
     "metadata": {},
     "output_type": "execute_result"
    }
   ],
   "source": [
    "life['animals']['cats']"
   ]
  },
  {
   "cell_type": "code",
   "execution_count": null,
   "id": "7589dbaf-feee-4059-85fa-8b0bd1c1779e",
   "metadata": {},
   "outputs": [],
   "source": []
  }
 ],
 "metadata": {
  "kernelspec": {
   "display_name": "Python 3 (ipykernel)",
   "language": "python",
   "name": "python3"
  },
  "language_info": {
   "codemirror_mode": {
    "name": "ipython",
    "version": 3
   },
   "file_extension": ".py",
   "mimetype": "text/x-python",
   "name": "python",
   "nbconvert_exporter": "python",
   "pygments_lexer": "ipython3",
   "version": "3.10.6"
  }
 },
 "nbformat": 4,
 "nbformat_minor": 5
}
