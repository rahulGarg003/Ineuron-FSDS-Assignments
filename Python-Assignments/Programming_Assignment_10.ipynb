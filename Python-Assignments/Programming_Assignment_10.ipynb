{
 "cells": [
  {
   "cell_type": "markdown",
   "id": "089f9c53-0977-440c-bf01-ad1e9be43646",
   "metadata": {},
   "source": [
    "# Python Programming Assignment - 10\n",
    "1. Write a Python program to find sum of elements in list?\n",
    "2. Write a Python program to Multiply all numbers in the list?\n",
    "3. Write a Python program to find smallest number in a list?\n",
    "4. Write a Python program to find largest number in a list?\n",
    "5. Write a Python program to find second largest number in a list?\n",
    "6. Write a Python program to find N largest elements from a list?\n",
    "7. Write a Python program to print even numbers in a list?\n",
    "8. Write a Python program to print odd numbers in a List?\n",
    "9. Write a Python program to Remove empty List from List?\n",
    "10. Write a Python program to Cloning or Copying a list?\n",
    "11. Write a Python program to Count occurrences of an element in a list?"
   ]
  },
  {
   "cell_type": "markdown",
   "id": "d4fcdd8d-1e46-490f-bc65-b12da75d3003",
   "metadata": {},
   "source": [
    "1. Write a Python program to find sum of elements in list?"
   ]
  },
  {
   "cell_type": "code",
   "execution_count": 1,
   "id": "583520a7-8723-4df7-995b-39bf14dc6c1f",
   "metadata": {},
   "outputs": [
    {
     "name": "stdout",
     "output_type": "stream",
     "text": [
      "15\n"
     ]
    }
   ],
   "source": [
    "# Define the list of numbers\n",
    "numbers = [1, 2, 3, 4, 5]\n",
    "\n",
    "# Find the sum of the elements in the list\n",
    "total = sum(numbers)\n",
    "\n",
    "# Print the result\n",
    "print(total)  # Output: 15\n"
   ]
  },
  {
   "cell_type": "markdown",
   "id": "52df8a4a-d668-41af-921a-28f3e4a67218",
   "metadata": {},
   "source": [
    "2. Write a Python program to Multiply all numbers in the list?"
   ]
  },
  {
   "cell_type": "code",
   "execution_count": 2,
   "id": "8cb12728-5b24-4924-b007-048b78ebee9e",
   "metadata": {},
   "outputs": [
    {
     "name": "stdout",
     "output_type": "stream",
     "text": [
      "120\n"
     ]
    }
   ],
   "source": [
    "# Define the list of numbers\n",
    "numbers = [1, 2, 3, 4, 5]\n",
    "\n",
    "# Initialize a variable to store the product\n",
    "product = 1\n",
    "\n",
    "# Iterate through the list and multiply each element by the product\n",
    "for number in numbers:\n",
    "    product *= number\n",
    "\n",
    "# Print the result\n",
    "print(product)  # Output: 120\n"
   ]
  },
  {
   "cell_type": "markdown",
   "id": "acef7b4b-33d5-40d4-8bf4-3b6912dee94e",
   "metadata": {},
   "source": [
    "3. Write a Python program to find smallest number in a list?"
   ]
  },
  {
   "cell_type": "code",
   "execution_count": 3,
   "id": "e2d683bd-b874-46e6-accf-b894f43d7681",
   "metadata": {},
   "outputs": [
    {
     "name": "stdout",
     "output_type": "stream",
     "text": [
      "1\n"
     ]
    }
   ],
   "source": [
    "# Define the list of numbers\n",
    "numbers = [3, 7, 4, 1, 9, 2]\n",
    "\n",
    "# Find the smallest number in the list\n",
    "smallest = min(numbers)\n",
    "\n",
    "# Print the result\n",
    "print(smallest)  # Output: 1\n"
   ]
  },
  {
   "cell_type": "code",
   "execution_count": 5,
   "id": "33cdd828-a4b6-48dd-b4d1-f24899b6d115",
   "metadata": {},
   "outputs": [
    {
     "name": "stdout",
     "output_type": "stream",
     "text": [
      "1\n"
     ]
    }
   ],
   "source": [
    "# Define the list of numbers\n",
    "numbers = [3, 7, 4, 1, 9, 2]\n",
    "\n",
    "# Initialize a variable to store the smallest number\n",
    "smallest = float(\"inf\")  # Set it to a large number initially\n",
    "\n",
    "# Iterate through the list and find the smallest number\n",
    "for number in numbers:\n",
    "    if number < smallest:\n",
    "        smallest = number\n",
    "\n",
    "# Print the result\n",
    "print(smallest)  # Output: 1\n"
   ]
  },
  {
   "cell_type": "markdown",
   "id": "f2884c72-e1cd-4904-80fc-9dfde8356383",
   "metadata": {},
   "source": [
    "4. Write a Python program to find largest number in a list?"
   ]
  },
  {
   "cell_type": "code",
   "execution_count": 4,
   "id": "e6eee41f-2d82-426c-a3cd-e27733fd16d7",
   "metadata": {},
   "outputs": [
    {
     "name": "stdout",
     "output_type": "stream",
     "text": [
      "9\n"
     ]
    }
   ],
   "source": [
    "# Define the list of numbers\n",
    "numbers = [3, 7, 4, 1, 9, 2]\n",
    "\n",
    "# Find the largest number in the list\n",
    "largest = max(numbers)\n",
    "\n",
    "# Print the result\n",
    "print(largest)  # Output: 9\n"
   ]
  },
  {
   "cell_type": "code",
   "execution_count": 6,
   "id": "3670aff3-278b-4b56-a4d9-086372efc2ab",
   "metadata": {},
   "outputs": [
    {
     "name": "stdout",
     "output_type": "stream",
     "text": [
      "9\n"
     ]
    }
   ],
   "source": [
    "# Define the list of numbers\n",
    "numbers = [3, 7, 4, 1, 9, 2]\n",
    "\n",
    "# Initialize a variable to store the largest number\n",
    "largest = -float(\"inf\")  # Set it to a small number initially\n",
    "\n",
    "# Iterate through the list and find the largest number\n",
    "for number in numbers:\n",
    "    if number > largest:\n",
    "        largest = number\n",
    "\n",
    "# Print the result\n",
    "print(largest)  # Output: 9\n"
   ]
  },
  {
   "cell_type": "markdown",
   "id": "3c1f7249-e953-40e3-8cbb-1ddb3cac82b5",
   "metadata": {},
   "source": [
    "5. Write a Python program to find second largest number in a list?"
   ]
  },
  {
   "cell_type": "code",
   "execution_count": 7,
   "id": "a5fda9f8-1b5f-42c9-b515-3f3cca225d32",
   "metadata": {},
   "outputs": [
    {
     "name": "stdout",
     "output_type": "stream",
     "text": [
      "7\n"
     ]
    }
   ],
   "source": [
    "# Define the list of numbers\n",
    "numbers = [3, 7, 4, 1, 9, 2]\n",
    "\n",
    "# Find the second largest number in the list\n",
    "largest = max(numbers)\n",
    "second_largest = -float(\"inf\")\n",
    "for number in numbers:\n",
    "    if number > second_largest and number < largest:\n",
    "        second_largest = number\n",
    "\n",
    "# Print the result\n",
    "print(second_largest)  # Output: 7\n"
   ]
  },
  {
   "cell_type": "code",
   "execution_count": 9,
   "id": "7dfb3a78-9cab-4220-824d-c54e090821ef",
   "metadata": {},
   "outputs": [
    {
     "name": "stdout",
     "output_type": "stream",
     "text": [
      "[9, 7, 4, 3, 2, 1]\n",
      "7\n"
     ]
    }
   ],
   "source": [
    "# Define the list of numbers\n",
    "numbers = [3, 7, 4, 1, 9, 2]\n",
    "\n",
    "# Sort the list in decreasing order and find the second largest number\n",
    "sorted_numbers = sorted(numbers, reverse=True)\n",
    "second_largest = sorted_numbers[1]\n",
    "\n",
    "print(sorted_numbers)\n",
    "# Print the result\n",
    "print(second_largest)  # Output: 7\n"
   ]
  },
  {
   "cell_type": "markdown",
   "id": "ee04056c-e441-4377-a792-30181d0c6487",
   "metadata": {},
   "source": [
    "6. Write a Python program to find N largest elements from a list?"
   ]
  },
  {
   "cell_type": "code",
   "execution_count": 1,
   "id": "a60bf692-f3a0-4b27-9481-694c1f62f801",
   "metadata": {},
   "outputs": [
    {
     "name": "stdout",
     "output_type": "stream",
     "text": [
      "[9, 7, 4]\n"
     ]
    }
   ],
   "source": [
    "# Define the list of numbers\n",
    "numbers = [3, 7, 4, 1, 9, 2]\n",
    "\n",
    "# Find the N largest elements from the list\n",
    "N = 3  # Number of largest elements to find\n",
    "largest = sorted(numbers, reverse=True)[:N]\n",
    "\n",
    "# Print the result\n",
    "print(largest)  # Output: [9, 7, 4]\n"
   ]
  },
  {
   "cell_type": "code",
   "execution_count": 2,
   "id": "04ef6657-6820-46c5-b601-a698467b231a",
   "metadata": {},
   "outputs": [
    {
     "name": "stdout",
     "output_type": "stream",
     "text": [
      "[9, 7, 4]\n"
     ]
    }
   ],
   "source": [
    "import heapq\n",
    "\n",
    "# Define the list of numbers\n",
    "numbers = [3, 7, 4, 1, 9, 2]\n",
    "\n",
    "# Find the N largest elements from the list using the nlargest function from heapq\n",
    "N = 3  # Number of largest elements to find\n",
    "largest = heapq.nlargest(N, numbers)\n",
    "\n",
    "# Print the result\n",
    "print(largest)  # Output: [9, 7, 4]\n"
   ]
  },
  {
   "cell_type": "markdown",
   "id": "e2095d0b-a6da-45c9-8bc2-dc02d6f8b476",
   "metadata": {},
   "source": [
    "7. Write a Python program to print even numbers in a list?"
   ]
  },
  {
   "cell_type": "code",
   "execution_count": 3,
   "id": "87c67fb5-f969-4f5f-ab05-a939c7f530d6",
   "metadata": {},
   "outputs": [
    {
     "name": "stdout",
     "output_type": "stream",
     "text": [
      "2\n",
      "4\n",
      "6\n",
      "8\n",
      "10\n"
     ]
    }
   ],
   "source": [
    "# Define the list of numbers\n",
    "numbers = [1, 2, 3, 4, 5, 6, 7, 8, 9, 10]\n",
    "\n",
    "# Print all the even numbers in the list\n",
    "for number in numbers:\n",
    "    if number % 2 == 0:\n",
    "        print(number)\n"
   ]
  },
  {
   "cell_type": "code",
   "execution_count": 4,
   "id": "9c485a97-e32b-49ac-99b8-a21291cd4e26",
   "metadata": {},
   "outputs": [
    {
     "name": "stdout",
     "output_type": "stream",
     "text": [
      "[2, 4, 6, 8, 10]\n"
     ]
    }
   ],
   "source": [
    "# Define the list of numbers\n",
    "numbers = [1, 2, 3, 4, 5, 6, 7, 8, 9, 10]\n",
    "\n",
    "# Create a new list of even numbers using a list comprehension\n",
    "even_numbers = [number for number in numbers if number % 2 == 0]\n",
    "\n",
    "# Print the new list of even numbers\n",
    "print(even_numbers)  # Output: [2, 4, 6, 8, 10]\n"
   ]
  },
  {
   "cell_type": "markdown",
   "id": "7a4dcf75-0d3c-455a-bb48-676de208149a",
   "metadata": {},
   "source": [
    "8. Write a Python program to print odd numbers in a List?"
   ]
  },
  {
   "cell_type": "code",
   "execution_count": 5,
   "id": "24a6109d-2604-45fb-8904-c7b76fadeae3",
   "metadata": {},
   "outputs": [
    {
     "name": "stdout",
     "output_type": "stream",
     "text": [
      "1\n",
      "3\n",
      "5\n",
      "7\n",
      "9\n"
     ]
    }
   ],
   "source": [
    "# Define the list of numbers\n",
    "numbers = [1, 2, 3, 4, 5, 6, 7, 8, 9, 10]\n",
    "\n",
    "# Print all the odd numbers in the list\n",
    "for number in numbers:\n",
    "    if number % 2 != 0:\n",
    "        print(number)\n"
   ]
  },
  {
   "cell_type": "code",
   "execution_count": 6,
   "id": "36019bc5-56bd-4cc9-82a6-4ea59c8b575e",
   "metadata": {},
   "outputs": [
    {
     "name": "stdout",
     "output_type": "stream",
     "text": [
      "[1, 3, 5, 7, 9]\n"
     ]
    }
   ],
   "source": [
    "# Define the list of numbers\n",
    "numbers = [1, 2, 3, 4, 5, 6, 7, 8, 9, 10]\n",
    "\n",
    "# Create a new list of odd numbers using a list comprehension\n",
    "odd_numbers = [number for number in numbers if number % 2 != 0]\n",
    "\n",
    "# Print the new list of odd numbers\n",
    "print(odd_numbers)  # Output: [1, 3, 5, 7, 9]\n"
   ]
  },
  {
   "cell_type": "markdown",
   "id": "67bf9eba-b461-45b1-82bb-e803cc0c2638",
   "metadata": {},
   "source": [
    "9. Write a Python program to Remove empty List from List?"
   ]
  },
  {
   "cell_type": "code",
   "execution_count": 7,
   "id": "c978f387-4ce3-4c2e-83a6-ca626d10cf3f",
   "metadata": {},
   "outputs": [
    {
     "name": "stdout",
     "output_type": "stream",
     "text": [
      "[[1, 2, 3], [4, 5, 6], [7, 8, 9]]\n"
     ]
    }
   ],
   "source": [
    "# Define the list of lists\n",
    "lists = [[1, 2, 3], [], [4, 5, 6], [], [7, 8, 9]]\n",
    "\n",
    "# Remove empty lists from the list using a list comprehension\n",
    "filtered_lists = [lst for lst in lists if lst]\n",
    "\n",
    "# Print the result\n",
    "print(filtered_lists)  # Output: [[1, 2, 3], [4, 5, 6], [7, 8, 9]]\n"
   ]
  },
  {
   "cell_type": "code",
   "execution_count": 8,
   "id": "8ddc282a-b7d6-41c9-9c5c-4d65722e17a4",
   "metadata": {},
   "outputs": [
    {
     "name": "stdout",
     "output_type": "stream",
     "text": [
      "[[1, 2, 3], [4, 5, 6], [7, 8, 9]]\n"
     ]
    }
   ],
   "source": [
    "# Define the list of lists\n",
    "lists = [[1, 2, 3], [], [4, 5, 6], [], [7, 8, 9]]\n",
    "\n",
    "# Initialize a new list to store the non-empty lists\n",
    "filtered_lists = []\n",
    "\n",
    "# Iterate through the list of lists and add non-empty lists to the new list\n",
    "for lst in lists:\n",
    "    if lst:  # Check if the list is not empty\n",
    "        filtered_lists.append(lst)\n",
    "\n",
    "# Print the result\n",
    "print(filtered_lists)  # Output: [[1, 2, 3], [4, 5, 6], [7\n"
   ]
  },
  {
   "cell_type": "markdown",
   "id": "679fdd05-b8a9-4b3d-87ba-137fb9ec224e",
   "metadata": {},
   "source": [
    "10. Write a Python program to Cloning or Copying a list?"
   ]
  },
  {
   "cell_type": "code",
   "execution_count": 9,
   "id": "f46b12d8-d31d-4a81-ab49-eb2800461d53",
   "metadata": {},
   "outputs": [
    {
     "name": "stdout",
     "output_type": "stream",
     "text": [
      "[1, 2, 3, 4, 5]\n"
     ]
    }
   ],
   "source": [
    "import copy\n",
    "\n",
    "# original list\n",
    "original_list = [1, 2, 3, 4, 5]\n",
    "\n",
    "# copy the list using the copy method\n",
    "copied_list = original_list.copy()\n",
    "\n",
    "print(copied_list)  # prints [1, 2, 3, 4, 5]\n"
   ]
  },
  {
   "cell_type": "code",
   "execution_count": 10,
   "id": "c8003a90-1e3f-492b-84e8-6f58b4a7df12",
   "metadata": {},
   "outputs": [
    {
     "name": "stdout",
     "output_type": "stream",
     "text": [
      "[1, 2, 3, 4, 5]\n"
     ]
    }
   ],
   "source": [
    "import copy\n",
    "\n",
    "# original list\n",
    "original_list = [1, 2, 3, 4, 5]\n",
    "\n",
    "# copy the list using the copy function\n",
    "copied_list = copy.copy(original_list)\n",
    "\n",
    "print(copied_list)  # prints [1, 2, 3, 4, 5]\n"
   ]
  },
  {
   "cell_type": "markdown",
   "id": "1ecdbec1-c695-4705-93c3-3f3f540e2cc6",
   "metadata": {},
   "source": [
    "11. Write a Python program to Count occurrences of an element in a list?"
   ]
  },
  {
   "cell_type": "code",
   "execution_count": 11,
   "id": "f00fffce-0e33-478e-a9eb-3f6a18c1ad03",
   "metadata": {},
   "outputs": [
    {
     "name": "stdout",
     "output_type": "stream",
     "text": [
      "3\n"
     ]
    }
   ],
   "source": [
    "# list with elements to count\n",
    "my_list = [1, 2, 3, 4, 1, 2, 3, 1]\n",
    "\n",
    "# element to count\n",
    "element = 1\n",
    "\n",
    "# count the occurrences of the element\n",
    "count = my_list.count(element)\n",
    "\n",
    "print(count)  # prints 3\n"
   ]
  },
  {
   "cell_type": "code",
   "execution_count": null,
   "id": "5b75a252-95d5-4ee8-8169-0910ebaf3724",
   "metadata": {},
   "outputs": [],
   "source": []
  }
 ],
 "metadata": {
  "kernelspec": {
   "display_name": "Python 3 (ipykernel)",
   "language": "python",
   "name": "python3"
  },
  "language_info": {
   "codemirror_mode": {
    "name": "ipython",
    "version": 3
   },
   "file_extension": ".py",
   "mimetype": "text/x-python",
   "name": "python",
   "nbconvert_exporter": "python",
   "pygments_lexer": "ipython3",
   "version": "3.10.6"
  }
 },
 "nbformat": 4,
 "nbformat_minor": 5
}
