{
 "cells": [
  {
   "cell_type": "markdown",
   "id": "28216200-4523-4637-bd42-d9ffcb584d16",
   "metadata": {},
   "source": [
    "# Python Assignment - 18\n",
    "1. Create a zoo.py file first. Define the hours() function, which prints the string &#39;Open 9-5 daily&#39;. Then, use the interactive interpreter to import the zoo module and call its hours() function.\n",
    "2. In the interactive interpreter, import the zoo module as menagerie and call its hours() function.\n",
    "3. Using the interpreter, explicitly import and call the hours() function from zoo.\n",
    "4. Import the hours() function as info and call it.\n",
    "5. Create a plain dictionary with the key-value pairs &#39;a&#39;: 1, &#39;b&#39;: 2, and &#39;c&#39;: 3, and print it out.\n",
    "6. Make an OrderedDict called fancy from the same pairs listed in 5 and print it. Did it print in the same order as plain?\n",
    "7. Make a default dictionary called dict_of_lists and pass it the argument list. Make the list dict_of_lists[&#39;a&#39;] and append the value &#39;something for a&#39; to it in one assignment. Print dict_of_lists[&#39;a&#39;]."
   ]
  },
  {
   "cell_type": "code",
   "execution_count": null,
   "id": "88479621-4462-42c7-9e23-e6f045d378a3",
   "metadata": {},
   "outputs": [],
   "source": []
  },
  {
   "cell_type": "raw",
   "id": "e3846f62-42d6-48ca-b1bb-7291a48c6405",
   "metadata": {},
   "source": [
    "##Content of zoo.py\n",
    "def hours():\n",
    "    print('Open 9-5 daily')"
   ]
  },
  {
   "cell_type": "code",
   "execution_count": null,
   "id": "2863ba91-2d56-465f-b8eb-8d36bfedd775",
   "metadata": {},
   "outputs": [],
   "source": []
  },
  {
   "cell_type": "markdown",
   "id": "776ac500-2815-44da-bd66-1ddeedd2f7bb",
   "metadata": {},
   "source": [
    "1. Create a zoo.py file first. Define the hours() function, which prints the string 'Open 9-5 daily'. Then, use the interactive interpreter to import the zoo module and call its hours() function."
   ]
  },
  {
   "cell_type": "code",
   "execution_count": 1,
   "id": "ce9bbd91-810e-4bbb-9aae-4ce25bb499ec",
   "metadata": {},
   "outputs": [
    {
     "name": "stdout",
     "output_type": "stream",
     "text": [
      "Open 9-5 daily\n"
     ]
    }
   ],
   "source": [
    "import zoo\n",
    "zoo.hours()"
   ]
  },
  {
   "cell_type": "markdown",
   "id": "85570e93-d8a5-4871-91f4-d277d65f0dca",
   "metadata": {},
   "source": [
    "2. In the interactive interpreter, import the zoo module as menagerie and call its hours() function."
   ]
  },
  {
   "cell_type": "code",
   "execution_count": 2,
   "id": "538d5977-c079-4f26-9cd1-d6b844afe379",
   "metadata": {},
   "outputs": [
    {
     "name": "stdout",
     "output_type": "stream",
     "text": [
      "Open 9-5 daily\n"
     ]
    }
   ],
   "source": [
    "import zoo as menagerie\n",
    "menagerie.hours()"
   ]
  },
  {
   "cell_type": "markdown",
   "id": "f1dd02e2-a1f1-496c-8fcf-62566f409d81",
   "metadata": {},
   "source": [
    "4. Using the interpreter, explicitly import and call the hours() function from zoo."
   ]
  },
  {
   "cell_type": "code",
   "execution_count": 4,
   "id": "34429cc2-4023-4bf3-9a80-a8fd4a9e9564",
   "metadata": {},
   "outputs": [
    {
     "name": "stdout",
     "output_type": "stream",
     "text": [
      "Open 9-5 daily\n"
     ]
    }
   ],
   "source": [
    "from zoo import hours\n",
    "hours()"
   ]
  },
  {
   "cell_type": "markdown",
   "id": "2b7c64e9-eade-4eab-8e21-ff836b138709",
   "metadata": {},
   "source": [
    "5. Create a plain dictionary with the key-value pairs 'a': 1, 'b': 2, and 'c': 3, and print it out."
   ]
  },
  {
   "cell_type": "code",
   "execution_count": 6,
   "id": "9beab96e-e37d-46c7-add6-9b773c06fbfe",
   "metadata": {},
   "outputs": [],
   "source": [
    "plain = {\n",
    "    'a': 1, \n",
    "    'b': 2,\n",
    "    'c': 3\n",
    "}"
   ]
  },
  {
   "cell_type": "code",
   "execution_count": 7,
   "id": "93b7d653-2048-4f47-87b6-2d134af26985",
   "metadata": {},
   "outputs": [
    {
     "data": {
      "text/plain": [
       "{'a': 1, 'b': 2, 'c': 3}"
      ]
     },
     "execution_count": 7,
     "metadata": {},
     "output_type": "execute_result"
    }
   ],
   "source": [
    "plain"
   ]
  },
  {
   "cell_type": "markdown",
   "id": "1524724f-5742-462c-b122-c98046444d43",
   "metadata": {},
   "source": [
    "6. Make an OrderedDict called fancy from the same pairs listed in 5 and print it. Did it print in the same order as plain?  --> NO"
   ]
  },
  {
   "cell_type": "code",
   "execution_count": 10,
   "id": "1cb973a6-9bc7-43a2-90ec-e902bb2e042c",
   "metadata": {},
   "outputs": [],
   "source": [
    "from collections import OrderedDict\n",
    "fancy = OrderedDict(plain)"
   ]
  },
  {
   "cell_type": "code",
   "execution_count": 13,
   "id": "2d76a562-ee64-458e-a020-3b7f6aa71b38",
   "metadata": {},
   "outputs": [
    {
     "data": {
      "text/plain": [
       "OrderedDict([('a', 1), ('b', 2), ('c', 3)])"
      ]
     },
     "execution_count": 13,
     "metadata": {},
     "output_type": "execute_result"
    }
   ],
   "source": [
    "fancy"
   ]
  },
  {
   "cell_type": "markdown",
   "id": "79392900-8466-4280-8c12-cb1ee7f88ff0",
   "metadata": {},
   "source": [
    "7. Make a default dictionary called dict_of_lists and pass it the argument list. Make the list dict_of_lists['a'] and append the value 'something for a' to it in one assignment. Print dict_of_lists['a']."
   ]
  },
  {
   "cell_type": "code",
   "execution_count": 14,
   "id": "c7d76a75-fa1f-47cb-afea-c4a9356c3283",
   "metadata": {},
   "outputs": [],
   "source": [
    "dict_of_lists = {}\n",
    "dict_of_lists['a'] = []\n",
    "dict_of_lists['a'].append('something for a')"
   ]
  },
  {
   "cell_type": "code",
   "execution_count": 15,
   "id": "d8c9cbc0-f971-4648-91f5-71b6d0cb44ab",
   "metadata": {},
   "outputs": [
    {
     "data": {
      "text/plain": [
       "['something for a']"
      ]
     },
     "execution_count": 15,
     "metadata": {},
     "output_type": "execute_result"
    }
   ],
   "source": [
    "dict_of_lists['a']"
   ]
  },
  {
   "cell_type": "code",
   "execution_count": null,
   "id": "2fb5fd2b-75b2-421e-8d82-876c33b274b8",
   "metadata": {},
   "outputs": [],
   "source": []
  }
 ],
 "metadata": {
  "kernelspec": {
   "display_name": "Python 3 (ipykernel)",
   "language": "python",
   "name": "python3"
  },
  "language_info": {
   "codemirror_mode": {
    "name": "ipython",
    "version": 3
   },
   "file_extension": ".py",
   "mimetype": "text/x-python",
   "name": "python",
   "nbconvert_exporter": "python",
   "pygments_lexer": "ipython3",
   "version": "3.10.6"
  }
 },
 "nbformat": 4,
 "nbformat_minor": 5
}
