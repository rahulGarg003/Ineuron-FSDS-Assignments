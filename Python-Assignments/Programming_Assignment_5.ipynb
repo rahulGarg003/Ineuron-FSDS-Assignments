{
 "cells": [
  {
   "cell_type": "markdown",
   "id": "3a40571f-5dd1-47b2-abc5-ce2b9c5c6255",
   "metadata": {},
   "source": [
    "# Python Programming Assignment - 5\n",
    "1. Write a Python Program to Find LCM?\n",
    "2. Write a Python Program to Find HCF?\n",
    "3. Write a Python Program to Convert Decimal to Binary, Octal and Hexadecimal?\n",
    "4. Write a Python Program To Find ASCII value of a character?\n",
    "5. Write a Python Program to Make a Simple Calculator with 4 basic mathematical operations?"
   ]
  },
  {
   "cell_type": "markdown",
   "id": "b71c7320-0c3d-428b-b21d-f4a22913cb23",
   "metadata": {},
   "source": [
    "1. Write a Python Program to Find LCM?"
   ]
  },
  {
   "cell_type": "code",
   "execution_count": 1,
   "id": "1342542e-215b-47b3-8c96-a1a40d15c709",
   "metadata": {},
   "outputs": [
    {
     "name": "stdin",
     "output_type": "stream",
     "text": [
      "Enter the first number:  56\n",
      "Enter the second number:  98\n"
     ]
    },
    {
     "name": "stdout",
     "output_type": "stream",
     "text": [
      "The LCM of 56 and 98 is 392\n"
     ]
    }
   ],
   "source": [
    "def lcm(a, b):\n",
    "   # Find the maximum of the two numbers\n",
    "   max_num = max(a, b)\n",
    "\n",
    "   # Initialize the LCM to the maximum number\n",
    "   lcm = max_num\n",
    "\n",
    "   # Use a while loop to increment the LCM until it is divisible by both numbers\n",
    "   while (lcm % a != 0) or (lcm % b != 0):\n",
    "      lcm += max_num\n",
    "\n",
    "   return lcm\n",
    "\n",
    "# Get the two numbers\n",
    "num1 = int(input(\"Enter the first number: \"))\n",
    "num2 = int(input(\"Enter the second number: \"))\n",
    "\n",
    "# Find the LCM\n",
    "result = lcm(num1, num2)\n",
    "\n",
    "# Print the result\n",
    "print(f\"The LCM of {num1} and {num2} is {result}\")\n"
   ]
  },
  {
   "cell_type": "markdown",
   "id": "2d41c635-6078-4955-8d2d-7887272b55b9",
   "metadata": {},
   "source": [
    "2. Write a Python Program to Find HCF?"
   ]
  },
  {
   "cell_type": "code",
   "execution_count": 1,
   "id": "08ce8a02-8eca-45ed-a563-8ce9da8f223d",
   "metadata": {},
   "outputs": [
    {
     "name": "stdin",
     "output_type": "stream",
     "text": [
      "Enter the first number:  67\n",
      "Enter the second number:  98\n"
     ]
    },
    {
     "name": "stdout",
     "output_type": "stream",
     "text": [
      "The HCF of 67 and 98 is 1\n"
     ]
    }
   ],
   "source": [
    "def hcf(a, b):\n",
    "   # Find the remainder of the larger number divided by the smaller number\n",
    "   remainder = a % b\n",
    "   # If the remainder is 0, the smaller number is the HCF\n",
    "   if remainder == 0:\n",
    "      return b\n",
    "   # If the remainder is not 0, divide the smaller number by the remainder and go back to step 1\n",
    "   else:\n",
    "      return hcf(b, remainder)\n",
    "\n",
    "# Get the two numbers\n",
    "num1 = int(input(\"Enter the first number: \"))\n",
    "num2 = int(input(\"Enter the second number: \"))\n",
    "\n",
    "# Find the HCF\n",
    "result = hcf(num1, num2)\n",
    "\n",
    "# Print the result\n",
    "print(f\"The HCF of {num1} and {num2} is {result}\")\n"
   ]
  },
  {
   "cell_type": "markdown",
   "id": "3fb935c0-b598-4659-bfb7-b300202094b3",
   "metadata": {},
   "source": [
    "3. Write a Python Program to Convert Decimal to Binary, Octal and Hexadecimal?"
   ]
  },
  {
   "cell_type": "code",
   "execution_count": 2,
   "id": "73af130d-978d-4dbd-bdaa-04e403093440",
   "metadata": {},
   "outputs": [
    {
     "name": "stdin",
     "output_type": "stream",
     "text": [
      "Enter a decimal number:  10\n"
     ]
    },
    {
     "name": "stdout",
     "output_type": "stream",
     "text": [
      "Binary: 0b1010\n",
      "Octal: 0o12\n",
      "Hexadecimal: 0xa\n"
     ]
    }
   ],
   "source": [
    "# Get the decimal number\n",
    "decimal = int(input(\"Enter a decimal number: \"))\n",
    "\n",
    "# Convert the decimal number to binary, octal, and hexadecimal\n",
    "binary = bin(decimal)\n",
    "octal = oct(decimal)\n",
    "hexadecimal = hex(decimal)\n",
    "\n",
    "# Print the results\n",
    "print(f\"Binary: {binary}\")\n",
    "print(f\"Octal: {octal}\")\n",
    "print(f\"Hexadecimal: {hexadecimal}\")\n"
   ]
  },
  {
   "cell_type": "markdown",
   "id": "5926727b-3c95-4ad8-a391-4e3441cfd268",
   "metadata": {},
   "source": [
    "4. Write a Python Program To Find ASCII value of a character?"
   ]
  },
  {
   "cell_type": "code",
   "execution_count": 4,
   "id": "fe903a20-43db-45cc-8b59-298a5b1942e0",
   "metadata": {},
   "outputs": [
    {
     "name": "stdin",
     "output_type": "stream",
     "text": [
      "Enter a character:  h\n"
     ]
    },
    {
     "name": "stdout",
     "output_type": "stream",
     "text": [
      "The ASCII value of h is 104\n"
     ]
    }
   ],
   "source": [
    "# Get the character\n",
    "char = input(\"Enter a character: \")\n",
    "\n",
    "# Find the ASCII value of the character\n",
    "ascii_value = ord(char)\n",
    "\n",
    "# Print the result\n",
    "print(f\"The ASCII value of {char} is {ascii_value}\")\n"
   ]
  },
  {
   "cell_type": "markdown",
   "id": "546843c4-3ec8-422c-8359-44bb4e80d247",
   "metadata": {},
   "source": [
    "5. Write a Python Program to Make a Simple Calculator with 4 basic mathematical operations?"
   ]
  },
  {
   "cell_type": "code",
   "execution_count": 5,
   "id": "f69f087e-faf6-44d4-8e71-1960f3ef4823",
   "metadata": {},
   "outputs": [
    {
     "name": "stdin",
     "output_type": "stream",
     "text": [
      "Enter the first operand:  78\n",
      "Enter the operator (+, -, *, /):  /\n",
      "Enter the second operand:  98\n"
     ]
    },
    {
     "name": "stdout",
     "output_type": "stream",
     "text": [
      "78.0 / 98.0 = 0.7959183673469388\n"
     ]
    }
   ],
   "source": [
    "# Get the operands and operator\n",
    "operand1 = float(input(\"Enter the first operand: \"))\n",
    "operator = input(\"Enter the operator (+, -, *, /): \")\n",
    "operand2 = float(input(\"Enter the second operand: \"))\n",
    "\n",
    "# Perform the operation\n",
    "if operator == '+':\n",
    "   result = operand1 + operand2\n",
    "elif operator == '-':\n",
    "   result = operand1 - operand2\n",
    "elif operator == '*':\n",
    "   result = operand1 * operand2\n",
    "elif operator == '/':\n",
    "   result = operand1 / operand2\n",
    "else:\n",
    "   print(\"Invalid operator\")\n",
    "   result = None\n",
    "\n",
    "# Print the result\n",
    "if result is not None:\n",
    "   print(f\"{operand1} {operator} {operand2} = {result}\")\n"
   ]
  },
  {
   "cell_type": "code",
   "execution_count": null,
   "id": "c4611398-2a52-4b52-86e2-2c165ee0da64",
   "metadata": {},
   "outputs": [],
   "source": []
  }
 ],
 "metadata": {
  "kernelspec": {
   "display_name": "Python 3 (ipykernel)",
   "language": "python",
   "name": "python3"
  },
  "language_info": {
   "codemirror_mode": {
    "name": "ipython",
    "version": 3
   },
   "file_extension": ".py",
   "mimetype": "text/x-python",
   "name": "python",
   "nbconvert_exporter": "python",
   "pygments_lexer": "ipython3",
   "version": "3.10.6"
  }
 },
 "nbformat": 4,
 "nbformat_minor": 5
}
