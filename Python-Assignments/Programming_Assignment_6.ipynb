{
 "cells": [
  {
   "cell_type": "markdown",
   "id": "bb0fc1cc-15d9-4d8e-8cbf-eca605858b98",
   "metadata": {},
   "source": [
    "# Python Programming Assignment - 6\n",
    "1. Write a Python Program to Display Fibonacci Sequence Using Recursion?\n",
    "2. Write a Python Program to Find Factorial of Number Using Recursion?\n",
    "3. Write a Python Program to calculate your Body Mass Index?\n",
    "4. Write a Python Program to calculate the natural logarithm of any number?\n",
    "5. Write a Python Program for cube sum of first n natural numbers?"
   ]
  },
  {
   "cell_type": "markdown",
   "id": "47ea9b30-0da5-4ca8-bbc2-6fc13c801477",
   "metadata": {},
   "source": [
    "1. Write a Python Program to Display Fibonacci Sequence Using Recursion?"
   ]
  },
  {
   "cell_type": "code",
   "execution_count": 1,
   "id": "346951fc-80c5-4c73-97be-f79d3ec5cbaf",
   "metadata": {},
   "outputs": [
    {
     "name": "stdin",
     "output_type": "stream",
     "text": [
      "Enter the number of elements to display:  10\n"
     ]
    },
    {
     "name": "stdout",
     "output_type": "stream",
     "text": [
      "0\n",
      "1\n",
      "1\n",
      "2\n",
      "3\n",
      "5\n",
      "8\n",
      "13\n",
      "21\n",
      "34\n"
     ]
    }
   ],
   "source": [
    "def fibonacci(n):\n",
    "   # If n is 0 or 1, return n\n",
    "   if n == 0 or n == 1:\n",
    "      return n\n",
    "   # Otherwise, return the sum of the previous two elements\n",
    "   else:\n",
    "      return fibonacci(n-1) + fibonacci(n-2)\n",
    "\n",
    "# Get the number of elements to display\n",
    "num_elements = int(input(\"Enter the number of elements to display: \"))\n",
    "\n",
    "# Display the Fibonacci sequence\n",
    "for i in range(num_elements):\n",
    "   print(fibonacci(i))\n"
   ]
  },
  {
   "cell_type": "markdown",
   "id": "25dc1c6a-89fc-4eb9-828d-9552724e18e6",
   "metadata": {},
   "source": [
    "2. Write a Python Program to Find Factorial of Number Using Recursion?"
   ]
  },
  {
   "cell_type": "code",
   "execution_count": 2,
   "id": "d016a7c8-a4f3-4692-80c3-f07e5977e367",
   "metadata": {},
   "outputs": [
    {
     "name": "stdin",
     "output_type": "stream",
     "text": [
      "Enter a number:  10\n"
     ]
    },
    {
     "name": "stdout",
     "output_type": "stream",
     "text": [
      "The factorial of 10 is 3628800\n"
     ]
    }
   ],
   "source": [
    "def factorial(n):\n",
    "   # If n is 0 or 1, return 1\n",
    "   if n == 0 or n == 1:\n",
    "      return 1\n",
    "   # Otherwise, return n multiplied by the factorial of n-1\n",
    "   else:\n",
    "      return n * factorial(n-1)\n",
    "\n",
    "# Get the number\n",
    "num = int(input(\"Enter a number: \"))\n",
    "\n",
    "# Find the factorial of the number\n",
    "result = factorial(num)\n",
    "\n",
    "# Print the result\n",
    "print(f\"The factorial of {num} is {result}\")\n"
   ]
  },
  {
   "cell_type": "markdown",
   "id": "256f18d9-1b94-4065-8d1f-70bff1bf1ffc",
   "metadata": {},
   "source": [
    "3. Write a Python Program to calculate your Body Mass Index?"
   ]
  },
  {
   "cell_type": "code",
   "execution_count": 3,
   "id": "e5772063-fdb2-4f27-96d9-25c35f810b40",
   "metadata": {},
   "outputs": [
    {
     "name": "stdin",
     "output_type": "stream",
     "text": [
      "Enter your weight in kilograms:  109\n",
      "Enter your height in meters:  1.83\n"
     ]
    },
    {
     "name": "stdout",
     "output_type": "stream",
     "text": [
      "Your BMI is 32.55\n"
     ]
    }
   ],
   "source": [
    "# Get the weight and height\n",
    "weight = float(input(\"Enter your weight in kilograms: \"))\n",
    "height = float(input(\"Enter your height in meters: \"))\n",
    "\n",
    "# Calculate the BMI\n",
    "bmi = weight / (height ** 2)\n",
    "\n",
    "# Print the BMI\n",
    "print(f\"Your BMI is {bmi:.2f}\")\n"
   ]
  },
  {
   "cell_type": "markdown",
   "id": "59a9a698-1d8f-4ca1-8c60-4516b8e72493",
   "metadata": {},
   "source": [
    "4. Write a Python Program to calculate the natural logarithm of any number?"
   ]
  },
  {
   "cell_type": "code",
   "execution_count": 4,
   "id": "c20eac4e-b85d-42b1-899a-095b3f73747e",
   "metadata": {},
   "outputs": [
    {
     "name": "stdin",
     "output_type": "stream",
     "text": [
      "Enter a number:  60\n"
     ]
    },
    {
     "name": "stdout",
     "output_type": "stream",
     "text": [
      "The natural logarithm of 60.0 is 4.09\n"
     ]
    }
   ],
   "source": [
    "import math\n",
    "\n",
    "# Get the number\n",
    "num = float(input(\"Enter a number: \"))\n",
    "\n",
    "# Calculate the natural logarithm of the number\n",
    "ln = math.log(num)\n",
    "\n",
    "# Print the result\n",
    "print(f\"The natural logarithm of {num} is {ln:.2f}\")\n"
   ]
  },
  {
   "cell_type": "markdown",
   "id": "3ff695fa-d369-451d-a9ff-486a5e504f6d",
   "metadata": {},
   "source": [
    "5. Write a Python Program for cube sum of first n natural numbers?"
   ]
  },
  {
   "cell_type": "code",
   "execution_count": 5,
   "id": "1af40a7a-f53d-494c-b262-664f509946fd",
   "metadata": {},
   "outputs": [
    {
     "name": "stdin",
     "output_type": "stream",
     "text": [
      "Enter the number of natural numbers:  10\n"
     ]
    },
    {
     "name": "stdout",
     "output_type": "stream",
     "text": [
      "The sum of the cubes of the first 10 natural numbers is 3025\n"
     ]
    }
   ],
   "source": [
    "# Get the number of natural numbers\n",
    "n = int(input(\"Enter the number of natural numbers: \"))\n",
    "\n",
    "# Initialize the sum to 0\n",
    "sum = 0\n",
    "\n",
    "# Iterate over the range of numbers from 1 to n\n",
    "for i in range(1, n+1):\n",
    "   # Add the cube of the number to the sum\n",
    "   sum += i ** 3\n",
    "\n",
    "# Print the result\n",
    "print(f\"The sum of the cubes of the first {n} natural numbers is {sum}\")\n"
   ]
  },
  {
   "cell_type": "code",
   "execution_count": null,
   "id": "6211d840-4ff8-4f41-bda6-cbe49b157f3b",
   "metadata": {},
   "outputs": [],
   "source": []
  }
 ],
 "metadata": {
  "kernelspec": {
   "display_name": "Python 3 (ipykernel)",
   "language": "python",
   "name": "python3"
  },
  "language_info": {
   "codemirror_mode": {
    "name": "ipython",
    "version": 3
   },
   "file_extension": ".py",
   "mimetype": "text/x-python",
   "name": "python",
   "nbconvert_exporter": "python",
   "pygments_lexer": "ipython3",
   "version": "3.10.6"
  }
 },
 "nbformat": 4,
 "nbformat_minor": 5
}
