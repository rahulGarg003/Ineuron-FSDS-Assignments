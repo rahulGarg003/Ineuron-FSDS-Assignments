{
 "cells": [
  {
   "cell_type": "markdown",
   "id": "77bbce0b-41e5-4e70-8e45-479e75ea53a7",
   "metadata": {},
   "source": [
    "# Python Programming Assignment - 9\n",
    "1. Write a Python program to check if the given number is a Disarium Number?\n",
    "2. Write a Python program to print all disarium numbers between 1 to 100?\n",
    "3. Write a Python program to check if the given number is Happy Number?\n",
    "4. Write a Python program to print all happy numbers between 1 and 100?\n",
    "5. Write a Python program to determine whether the given number is a Harshad Number?\n",
    "6. Write a Python program to print all pronic numbers between 1 and 100?"
   ]
  },
  {
   "cell_type": "markdown",
   "id": "e0e27369-9d06-41cf-8d9a-0919c9ad6898",
   "metadata": {},
   "source": [
    "1. Write a Python program to check if the given number is a Disarium Number?\\\n",
    "Disarium number  = 1^1 + 7^2 + 5^3 = 175"
   ]
  },
  {
   "cell_type": "code",
   "execution_count": 10,
   "id": "66ecce04-b817-4aae-ba50-6cc5ff6cd91d",
   "metadata": {},
   "outputs": [
    {
     "name": "stdout",
     "output_type": "stream",
     "text": [
      "175 is a Disarium number.\n"
     ]
    }
   ],
   "source": [
    "# Define the number to check\n",
    "number = 175\n",
    "\n",
    "# Initialize a variable to store the sum of the powers\n",
    "sum_of_powers = 0\n",
    "\n",
    "# Initialize a variable to store the current digit and power\n",
    "digit = number\n",
    "power = len(str(number))\n",
    "\n",
    "# Extract the digits of the number and compute the sum of the powers\n",
    "while digit > 0:\n",
    "   # Extract the last digit of the number\n",
    "   last_digit = digit % 10\n",
    "   # Raise the digit to the power and add it to the sum\n",
    "   sum_of_powers += last_digit ** power\n",
    "   # Remove the last digit from the number\n",
    "   digit //= 10\n",
    "   # Increment the power\n",
    "   power -= 1\n",
    "\n",
    "# Check if the sum of the powers equals the original number\n",
    "if sum_of_powers == number:\n",
    "   print(f\"{number} is a Disarium number.\")\n",
    "else:\n",
    "   print(f\"{number} is not a Disarium number.\")\n"
   ]
  },
  {
   "cell_type": "markdown",
   "id": "139b408e-a7f3-4e20-b817-eb2afc6dcc94",
   "metadata": {},
   "source": [
    "2. Write a Python program to print all disarium numbers between 1 to 100?"
   ]
  },
  {
   "cell_type": "code",
   "execution_count": 9,
   "id": "1c8a8c84-597d-4c19-b614-bb1de1581356",
   "metadata": {},
   "outputs": [
    {
     "name": "stdout",
     "output_type": "stream",
     "text": [
      "1\n",
      "2\n",
      "3\n",
      "4\n",
      "5\n",
      "6\n",
      "7\n",
      "8\n",
      "9\n",
      "89\n"
     ]
    }
   ],
   "source": [
    "def is_disarium(num):\n",
    "    # Convert the number to a string to be able to access its digits\n",
    "    num_str = str(num)\n",
    "    # Initialize the sum to 0\n",
    "    sum = 0\n",
    "    # Iterate through the digits of the number\n",
    "    for i, digit in enumerate(num_str):\n",
    "        # Calculate the power of the digit by its position\n",
    "        power = int(digit) ** (i + 1)\n",
    "        # Add the power to the sum\n",
    "        sum += power\n",
    "    # Return True if the sum is equal to the number, False otherwise\n",
    "    return sum == num\n",
    "\n",
    "# Iterate through the range from 1 to 100\n",
    "for num in range(1, 101):\n",
    "    # Check if the number is a disarium number and print it if it is\n",
    "    if is_disarium(num):\n",
    "        print(num)\n"
   ]
  },
  {
   "cell_type": "markdown",
   "id": "206ac996-b2d2-42ab-b1d9-54a9a3acb80d",
   "metadata": {
    "tags": []
   },
   "source": [
    "3. Write a Python program to check if the given number is Happy Number?\\\n",
    "Input: n = 19\\\n",
    "Output: True\\\n",
    "19 is Happy Number,\\\n",
    "1^2 + 9^2 = 82\\\n",
    "8^2 + 2^2 = 68\\\n",
    "6^2 + 8^2 = 100\\\n",
    "1^2 + 0^2 + 0^2 = 1\\\n",
    "As we reached to 1, 19 is a Happy Number."
   ]
  },
  {
   "cell_type": "code",
   "execution_count": 3,
   "id": "07ae206d-2e41-472e-8e84-365d636824c3",
   "metadata": {},
   "outputs": [
    {
     "name": "stdout",
     "output_type": "stream",
     "text": [
      "True\n",
      "False\n",
      "True\n"
     ]
    }
   ],
   "source": [
    "def is_happy(num):\n",
    "    # Initialize a set to store the numbers encountered during the process\n",
    "    seen = set()\n",
    "    # Iterate until the number is 1 or is in a loop\n",
    "    while num != 1:\n",
    "        # Replace the number by the sum of the squares of its digits\n",
    "        num = sum(int(digit) ** 2 for digit in str(num))\n",
    "        # Add the number to the set\n",
    "        if(num in seen):\n",
    "            return False\n",
    "        seen.add(num)\n",
    "    # Return True if the number is 1, False otherwise\n",
    "    return num == 1\n",
    "\n",
    "# Test the function with some examples\n",
    "print(is_happy(19))  # True\n",
    "print(is_happy(2))   # False\n",
    "print(is_happy(7))   # True\n"
   ]
  },
  {
   "cell_type": "markdown",
   "id": "6541faca-6404-40c7-8ea8-13e8e06ef83d",
   "metadata": {},
   "source": [
    "4. Write a Python program to print all happy numbers between 1 and 100?"
   ]
  },
  {
   "cell_type": "code",
   "execution_count": 4,
   "id": "b9811042-ebb7-4f5a-88b2-07b49f208b4e",
   "metadata": {},
   "outputs": [
    {
     "name": "stdout",
     "output_type": "stream",
     "text": [
      "1\n",
      "7\n",
      "10\n",
      "13\n",
      "19\n",
      "23\n",
      "28\n",
      "31\n",
      "32\n",
      "44\n",
      "49\n",
      "68\n",
      "70\n",
      "79\n",
      "82\n",
      "86\n",
      "91\n",
      "94\n",
      "97\n",
      "100\n"
     ]
    }
   ],
   "source": [
    "def is_happy(n):\n",
    "    \"\"\"\n",
    "    This function returns True if the given number is a happy number, and False otherwise.\n",
    "    A happy number is a number defined by the following process: Starting with any positive integer, \n",
    "    replace the number by the sum of the squares of its digits, and repeat the process until the number equals 1 \n",
    "    (where it will stay), or it loops endlessly in a cycle which does not include 1. \n",
    "    Those numbers for which this process ends in 1 are happy numbers, while those that do not end in 1 are unhappy numbers.\n",
    "    \"\"\"\n",
    "    seen = set()\n",
    "    while n not in seen:\n",
    "        seen.add(n)\n",
    "        n = sum(int(i) ** 2 for i in str(n))\n",
    "    return n == 1\n",
    "\n",
    "# Print all happy numbers between 1 and 100\n",
    "for i in range(1, 101):\n",
    "    if is_happy(i):\n",
    "        print(i)\n"
   ]
  },
  {
   "cell_type": "markdown",
   "id": "9a332acd-b64e-41ab-be07-7da284634904",
   "metadata": {},
   "source": [
    "5. Write a Python program to determine whether the given number is a Harshad Number?"
   ]
  },
  {
   "cell_type": "code",
   "execution_count": 6,
   "id": "bc792db6-bf99-4b3a-b129-1c0251c9b227",
   "metadata": {},
   "outputs": [
    {
     "name": "stdout",
     "output_type": "stream",
     "text": [
      "True\n",
      "False\n",
      "True\n"
     ]
    }
   ],
   "source": [
    "def is_harshad(n):\n",
    "    \"\"\"\n",
    "    This function returns True if the given number is a Harshad number, and False otherwise.\n",
    "    A Harshad number is a number that is divisible by the sum of its digits.\n",
    "    \"\"\"\n",
    "    return n % sum(int(i) for i in str(n)) == 0\n",
    "\n",
    "# Test some numbers\n",
    "print(is_harshad(18))  # True\n",
    "print(is_harshad(22))  # False\n",
    "print(is_harshad(21))  # True\n"
   ]
  },
  {
   "cell_type": "markdown",
   "id": "40b5fdb4-b3c0-4d27-ba13-867e53ba568c",
   "metadata": {},
   "source": [
    "6. Write a Python program to print all pronic numbers between 1 and 100?"
   ]
  },
  {
   "cell_type": "code",
   "execution_count": 8,
   "id": "1a8f7ee7-9b1f-4d81-91fb-f89b7873dbf2",
   "metadata": {},
   "outputs": [
    {
     "name": "stdout",
     "output_type": "stream",
     "text": [
      "1 X 2 = 2\n",
      "2 X 3 = 6\n",
      "3 X 4 = 12\n",
      "4 X 5 = 20\n",
      "5 X 6 = 30\n",
      "6 X 7 = 42\n",
      "7 X 8 = 56\n",
      "8 X 9 = 72\n",
      "9 X 10 = 90\n"
     ]
    }
   ],
   "source": [
    "def is_pronic(n):\n",
    "    \"\"\"\n",
    "    This function returns True if the given number is a pronic number, and False otherwise.\n",
    "    A pronic number is a number that is the product of two consecutive integers.\n",
    "    \"\"\"\n",
    "    for i in range(1, int(n ** 0.5) + 1):\n",
    "        if i * (i + 1) == n:\n",
    "            return (True,i)\n",
    "    return (False,0)\n",
    "\n",
    "# Print all pronic numbers between 1 and 100\n",
    "for i in range(1, 101):\n",
    "    if is_pronic(i)[0]:\n",
    "        print(f\"{is_pronic(i)[1]} X {is_pronic(i)[1]+1} = {i}\")\n"
   ]
  },
  {
   "cell_type": "code",
   "execution_count": null,
   "id": "70bef653-3c58-4634-931e-2c36b65d0906",
   "metadata": {},
   "outputs": [],
   "source": []
  }
 ],
 "metadata": {
  "kernelspec": {
   "display_name": "Python 3 (ipykernel)",
   "language": "python",
   "name": "python3"
  },
  "language_info": {
   "codemirror_mode": {
    "name": "ipython",
    "version": 3
   },
   "file_extension": ".py",
   "mimetype": "text/x-python",
   "name": "python",
   "nbconvert_exporter": "python",
   "pygments_lexer": "ipython3",
   "version": "3.10.6"
  }
 },
 "nbformat": 4,
 "nbformat_minor": 5
}
