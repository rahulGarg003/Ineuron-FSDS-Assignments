{
 "cells": [
  {
   "cell_type": "markdown",
   "id": "2fb4e310-da86-467e-8cdd-0c298d572661",
   "metadata": {},
   "source": [
    "# Python Programming Assignment - 8\n",
    "1. Write a Python Program to Add Two Matrices?\n",
    "2. Write a Python Program to Multiply Two Matrices?\n",
    "3. Write a Python Program to Transpose a Matrix?\n",
    "4. Write a Python Program to Sort Words in Alphabetic Order?\n",
    "5. Write a Python Program to Remove Punctuation From a String?"
   ]
  },
  {
   "cell_type": "markdown",
   "id": "a3643b81-8b4d-4198-b29a-81c16e62b780",
   "metadata": {},
   "source": [
    "1. Write a Python Program to Add Two Matrices?"
   ]
  },
  {
   "cell_type": "code",
   "execution_count": 1,
   "id": "64b6d300-c191-43a5-932d-c584eef720ad",
   "metadata": {},
   "outputs": [
    {
     "name": "stdout",
     "output_type": "stream",
     "text": [
      "[[6, 8], [10, 12]]\n"
     ]
    }
   ],
   "source": [
    "# Define the matrices\n",
    "matrix1 = [[1, 2], [3, 4]]\n",
    "matrix2 = [[5, 6], [7, 8]]\n",
    "\n",
    "# Initialize the result matrix\n",
    "result_matrix = []\n",
    "\n",
    "# Iterate over the rows of the matrices\n",
    "for i in range(len(matrix1)):\n",
    "   # Initialize a row for the result matrix\n",
    "   result_row = []\n",
    "   # Iterate over the elements in the row\n",
    "   for j in range(len(matrix1[i])):\n",
    "      # Add the corresponding elements from the two matrices and append the result to the row\n",
    "      result_row.append(matrix1[i][j] + matrix2[i][j])\n",
    "   # Append the row to the result matrix\n",
    "   result_matrix.append(result_row)\n",
    "\n",
    "# Print the result matrix\n",
    "print(result_matrix)\n"
   ]
  },
  {
   "cell_type": "markdown",
   "id": "b69cde83-81fb-4c3e-8894-973fedfcfb07",
   "metadata": {},
   "source": [
    "2. Write a Python Program to Multiply Two Matrices?"
   ]
  },
  {
   "cell_type": "code",
   "execution_count": 2,
   "id": "c3cf9e8c-61ee-4d2e-a289-abe13ff2ceb5",
   "metadata": {},
   "outputs": [
    {
     "name": "stdout",
     "output_type": "stream",
     "text": [
      "[[19, 22], [43, 50]]\n"
     ]
    }
   ],
   "source": [
    "# Define the matrices\n",
    "matrix1 = [[1, 2], [3, 4]]\n",
    "matrix2 = [[5, 6], [7, 8]]\n",
    "\n",
    "# Initialize the result matrix\n",
    "result_matrix = []\n",
    "\n",
    "# Iterate over the rows of the first matrix\n",
    "for i in range(len(matrix1)):\n",
    "   # Initialize a row for the result matrix\n",
    "   result_row = []\n",
    "   # Iterate over the columns of the second matrix\n",
    "   for j in range(len(matrix2[0])):\n",
    "      # Initialize a variable to store the sum of the products of the elements\n",
    "      sum = 0\n",
    "      # Iterate over the elements in the row of the first matrix and the column of the second matrix\n",
    "      for k in range(len(matrix1[i])):\n",
    "         # Multiply the corresponding elements and add the result to the sum\n",
    "         sum += matrix1[i][k] * matrix2[k][j]\n",
    "      # Append the sum to the row\n",
    "      result_row.append(sum)\n",
    "   # Append the row to the result matrix\n",
    "   result_matrix.append(result_row)\n",
    "\n",
    "# Print the result matrix\n",
    "print(result_matrix)\n"
   ]
  },
  {
   "cell_type": "markdown",
   "id": "75cf4922-21bb-4d6e-8b90-04c1c6d6e320",
   "metadata": {},
   "source": [
    "3. Write a Python Program to Transpose a Matrix?"
   ]
  },
  {
   "cell_type": "code",
   "execution_count": 3,
   "id": "aaaa19f1-8ddb-48d5-9267-4c6d00b26594",
   "metadata": {},
   "outputs": [
    {
     "name": "stdout",
     "output_type": "stream",
     "text": [
      "[[1, 4], [2, 5], [3, 6]]\n"
     ]
    }
   ],
   "source": [
    "# Define the matrix\n",
    "matrix = [[1, 2, 3], [4, 5, 6]]\n",
    "\n",
    "# Initialize the transposed matrix\n",
    "transposed_matrix = []\n",
    "\n",
    "# Iterate over the columns of the matrix\n",
    "for j in range(len(matrix[0])):\n",
    "   # Initialize a row for the transposed matrix\n",
    "   transposed_row = []\n",
    "   # Iterate over the rows of the matrix\n",
    "   for i in range(len(matrix)):\n",
    "      # Append the element to the row\n",
    "      transposed_row.append(matrix[i][j])\n",
    "   # Append the row to the transposed matrix\n",
    "   transposed_matrix.append(transposed_row)\n",
    "\n",
    "# Print the transposed matrix\n",
    "print(transposed_matrix)\n"
   ]
  },
  {
   "cell_type": "markdown",
   "id": "b480efe4-3a76-4580-9b03-8e4fc204466e",
   "metadata": {},
   "source": [
    "4. Write a Python Program to Sort Words in Alphabetic Order?"
   ]
  },
  {
   "cell_type": "code",
   "execution_count": 6,
   "id": "41521bbe-127e-46f2-b5a5-c5e58f99a304",
   "metadata": {},
   "outputs": [
    {
     "name": "stdout",
     "output_type": "stream",
     "text": [
      "['apple', 'banana', 'cherry', 'date']\n"
     ]
    }
   ],
   "source": [
    "# Define the list of words\n",
    "words = ['cherry', 'apple', 'date', 'banana',]\n",
    "\n",
    "# Sort the words in alphabetic order\n",
    "sorted_words = sorted(words)\n",
    "\n",
    "# Print the sorted list of words\n",
    "print(sorted_words)\n"
   ]
  },
  {
   "cell_type": "markdown",
   "id": "5d5a7c82-49a1-4db3-b63e-af25e9bbf0f6",
   "metadata": {},
   "source": [
    "5. Write a Python Program to Remove Punctuation From a String?"
   ]
  },
  {
   "cell_type": "code",
   "execution_count": 7,
   "id": "c80699be-6a56-4fd1-b1bd-a21d1c52281a",
   "metadata": {},
   "outputs": [
    {
     "name": "stdout",
     "output_type": "stream",
     "text": [
      "Hello World How are you doing today\n"
     ]
    }
   ],
   "source": [
    "import string\n",
    "\n",
    "# Define the string\n",
    "text = \"Hello, World! How are you doing today?\"\n",
    "\n",
    "# Get a string of all ASCII punctuation characters\n",
    "punctuation = string.punctuation\n",
    "\n",
    "# Use the translate method to remove the punctuation characters\n",
    "no_punct_text = text.translate(str.maketrans('', '', punctuation))\n",
    "\n",
    "# Print the resulting string\n",
    "print(no_punct_text)\n"
   ]
  },
  {
   "cell_type": "code",
   "execution_count": null,
   "id": "c786dd7b-bbf1-4a6e-a298-ff4ed682cde3",
   "metadata": {},
   "outputs": [],
   "source": []
  }
 ],
 "metadata": {
  "kernelspec": {
   "display_name": "Python 3 (ipykernel)",
   "language": "python",
   "name": "python3"
  },
  "language_info": {
   "codemirror_mode": {
    "name": "ipython",
    "version": 3
   },
   "file_extension": ".py",
   "mimetype": "text/x-python",
   "name": "python",
   "nbconvert_exporter": "python",
   "pygments_lexer": "ipython3",
   "version": "3.10.6"
  }
 },
 "nbformat": 4,
 "nbformat_minor": 5
}
