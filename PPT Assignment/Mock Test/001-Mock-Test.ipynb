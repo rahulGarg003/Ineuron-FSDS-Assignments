{
 "cells": [
  {
   "attachments": {},
   "cell_type": "markdown",
   "metadata": {},
   "source": [
    "### Move Zeroes\n",
    "Given an integer array nums, move all 0's to the end of it while maintaining the relative order of the non-zero elements.\n",
    "\n",
    "Note that you must do this in-place without making a copy of the array.\n",
    "\n",
    "Example 1:\n",
    "- Input: nums = [0,1,0,3,12]\n",
    "- Output: [1,3,12,0,0]\n",
    "\n",
    "Example 2:\n",
    "- Input: nums = [0]\n",
    "- Output: [0]\n",
    "\n",
    "Constraints:\n",
    "1. 1 <= nums.length <= 10^4\n",
    "2. -2^31 <= nums[i] <= 2^31 - 1"
   ]
  },
  {
   "cell_type": "code",
   "execution_count": 4,
   "metadata": {},
   "outputs": [
    {
     "name": "stdout",
     "output_type": "stream",
     "text": [
      "Input: nums = [0]\n",
      "Output: [0]\n",
      "\n",
      "Input: nums = [0,1,0,3,12]\n",
      "Output: [1, 3, 12, 0, 0]\n",
      "\n",
      "Input: nums = [0,1,0,3,12,34,4,35,6,56,45,34,-4,-45,-54,0,0,0,0,0]\n",
      "Output: [1, 3, 12, 34, 4, 35, 6, 56, 45, 34, -4, -45, -54, 0, 0, 0, 0, 0, 0, 0]\n"
     ]
    }
   ],
   "source": [
    "def move_zeros(input: list[int]):\n",
    "    count_zeros = 0\n",
    "    while(len(input) > 0 and 0 in input):\n",
    "        input.remove(0)\n",
    "        count_zeros += 1\n",
    "    for i in range(count_zeros):\n",
    "        input.append(0)\n",
    "    return input\n",
    "\n",
    "print(f\"Input: nums = [0]\")\n",
    "print(f\"Output: {move_zeros([0])}\\n\")\n",
    "\n",
    "print(f\"Input: nums = [0,1,0,3,12]\")\n",
    "print(f\"Output: {move_zeros([0,1,0,3,12])}\\n\")\n",
    "\n",
    "print(f\"Input: nums = [0,1,0,3,12,34,4,35,6,56,45,34,-4,-45,-54,0,0,0,0,0]\")\n",
    "print(f\"Output: {move_zeros([0,1,0,3,12,34,4,35,6,56,45,34,-4,-45,-54,0,0,0,0,0])}\")"
   ]
  },
  {
   "attachments": {},
   "cell_type": "markdown",
   "metadata": {},
   "source": [
    "### First Unique Character in a String\n",
    "\n",
    "Given a string s, find the first non-repeating character in it and return its index. If it does not exist, return -1.\n",
    "\n",
    "Example 1:\n",
    "- Input: s = \"leetcode\"\n",
    "- Output: 0\n",
    "\n",
    "Example 2:\n",
    "- Input: s = \"loveleetcode\"\n",
    "- Output: 2\n",
    "\n",
    "Example 3:\n",
    "- Input: s = \"aabb\"\n",
    "- Output: -1\n",
    "\n",
    "Constraints:\n",
    "1. 1 <= s.length <= 10^5\n",
    "2. s consists of only lowercase English letters."
   ]
  },
  {
   "cell_type": "code",
   "execution_count": 7,
   "metadata": {},
   "outputs": [
    {
     "name": "stdout",
     "output_type": "stream",
     "text": [
      "Input: nums = \"leetcode\"\n",
      "Output: 0\n",
      "\n",
      "Input: nums = \"loveleetcode\"\n",
      "Output: 2\n",
      "\n",
      "Input: nums = \"aabb\"\n",
      "Output: -1\n"
     ]
    }
   ],
   "source": [
    "def unique_char(input: str):\n",
    "    temp = {}\n",
    "    for c in input:\n",
    "        if(c in temp):\n",
    "            temp[c] = temp[c] + 1\n",
    "        else:\n",
    "            temp[c] = 1\n",
    "    \n",
    "    for i in range(len(input)):\n",
    "        if(temp[input[i]] == 1):\n",
    "            return i\n",
    "    else:\n",
    "        return -1\n",
    "\n",
    "print(f'Input: nums = \"leetcode\"')\n",
    "print(f'Output: {unique_char(\"leetcode\")}\\n')\n",
    "\n",
    "print(f'Input: nums = \"loveleetcode\"')\n",
    "print(f'Output: {unique_char(\"loveleetcode\")}\\n')\n",
    "\n",
    "print(f'Input: nums = \"aabb\"')\n",
    "print(f'Output: {unique_char(\"aabb\")}')"
   ]
  },
  {
   "cell_type": "code",
   "execution_count": null,
   "metadata": {},
   "outputs": [],
   "source": []
  }
 ],
 "metadata": {
  "kernelspec": {
   "display_name": "venv",
   "language": "python",
   "name": "python3"
  },
  "language_info": {
   "codemirror_mode": {
    "name": "ipython",
    "version": 3
   },
   "file_extension": ".py",
   "mimetype": "text/x-python",
   "name": "python",
   "nbconvert_exporter": "python",
   "pygments_lexer": "ipython3",
   "version": "3.10.6"
  },
  "orig_nbformat": 4
 },
 "nbformat": 4,
 "nbformat_minor": 2
}
