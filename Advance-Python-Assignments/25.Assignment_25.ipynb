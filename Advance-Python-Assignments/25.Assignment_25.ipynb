{
 "cells": [
  {
   "cell_type": "markdown",
   "id": "ae0f9c40",
   "metadata": {},
   "source": [
    "# Assignment 25 Solutions"
   ]
  },
  {
   "cell_type": "markdown",
   "id": "bb43a46e",
   "metadata": {},
   "source": [
    "#### Q1. What is the distinction between a numpy array and a pandas data frame? Is there a way to convert between the two if there is ?\n",
    "**Ans:** Numpy Ndarray provides a lot of convenient and optimized methods for performing several mathematical operations on vectors.\n",
    "\n",
    "Pandas Dataframe is an in-memory 2-dimensional tabular representation of data. In simpler words, it can be seen as a spreadsheet having rows and columns.\n",
    "\n",
    "Conversion : `Dataframe=pandas.DataFrame(array)`"
   ]
  },
  {
   "attachments": {},
   "cell_type": "markdown",
   "id": "108d256f",
   "metadata": {},
   "source": [
    "#### Q2. What can go wrong when an user enters in a stock-ticker symbol, and how do you handle it?\n",
    "\n",
    "**Ans:** When a user enters a stock ticker symbol, several things can go wrong, and it's important to handle these situations appropriately. Here are some potential issues and corresponding handling approaches:\n",
    "\n",
    "1. Invalid Ticker Symbol:\n",
    "    - Issue: The user enters an invalid or non-existent ticker symbol.\n",
    "    - Handling: Check the validity of the entered ticker symbol by validating it against a known list of valid symbols or querying an API that provides a list of valid symbols. If the symbol is invalid, provide an error message to the user indicating that the entered symbol is not recognized.\n",
    "    \n",
    "2. Incorrect Formatting:\n",
    "    - Issue: The user enters the ticker symbol with incorrect formatting, such as using lowercase letters instead of uppercase, adding extra spaces, or using special characters.\n",
    "    - Handling: Normalize the entered ticker symbol by converting it to the expected format (e.g., uppercase) and removing any unnecessary spaces or special characters. This ensures consistency and improves the accuracy of symbol recognition.\n",
    "\n",
    "3. Ambiguous Symbols:\n",
    "    - Issue: The user enters a ticker symbol that matches multiple companies or securities.\n",
    "    - Handling: If there is ambiguity in the entered symbol, provide a list of potential matches or present the user with options to select the correct company or security associated with the entered symbol. Alternatively, you can request additional information from the user to disambiguate the symbol.\n",
    "\n",
    "4. Connectivity or API Issues:\n",
    "    - Issue: There may be connectivity issues or problems with the API used to retrieve stock information.\n",
    "    - Handling: Implement proper error handling and error messages to inform the user about the issue. This can include displaying a message indicating that the stock data is temporarily unavailable or suggesting the user try again later. Additionally, you can implement mechanisms to retry the API request or provide alternative data sources if available.\n",
    "\n",
    "5. Data Inconsistencies or Delays:\n",
    "    - Issue: The stock data returned may be inconsistent or delayed due to various factors, such as data provider issues or market fluctuations.\n",
    "    - Handling: Communicate any potential inconsistencies or delays to the user, emphasizing that the provided data may not be real-time or completely accurate. It's important to set appropriate user expectations and, if necessary, include disclaimers regarding the reliability and timeliness of the data."
   ]
  },
  {
   "attachments": {},
   "cell_type": "markdown",
   "id": "24146fcb",
   "metadata": {},
   "source": [
    "#### Q3. Identify some of the plotting techniques that are used to produce a stock-market chart ?\n",
    "**Ans:** Bar chart, Line Chart are used for plotting. "
   ]
  },
  {
   "attachments": {},
   "cell_type": "markdown",
   "id": "f0fdf95b",
   "metadata": {},
   "source": [
    "#### Q4. Why is it essential to print a legend on a stock market chart ?\n",
    "**Ans:** Legend will help comparison between different stocks, so will be essential on a stock market chart"
   ]
  },
  {
   "attachments": {},
   "cell_type": "markdown",
   "id": "186d0d51",
   "metadata": {},
   "source": [
    "#### Q5. What is the best way to limit the length of a pandas data frame to less than a year ?\n",
    "**Ans:** : We can use start and end parameters for that. In start we write the date from where we are starting and at the end we write the end date. SO within this span we can restric the duration.Also we can use the parameters like periods for how much times we need the duration and we can also use the frequency parameter."
   ]
  },
  {
   "attachments": {},
   "cell_type": "markdown",
   "id": "5805fa40",
   "metadata": {},
   "source": [
    "#### Q6. What is the definition of a 180-day moving average ?\n",
    "**Ans:** : The 180-day moving average is represented as a line on charts and represents the average price over the past 180 days. The moving average can give traders a sense regarding whether the trend is up or down, while also identifying potential support or resistance areas."
   ]
  },
  {
   "attachments": {},
   "cell_type": "markdown",
   "id": "2f98bc08",
   "metadata": {},
   "source": [
    "#### Q7. Did the chapter's final example use \"indirect\" importing? If so, how exactly do you do it?\n",
    "**Ans:** : Let's say you have three Python modules: module1.py, module2.py, and module3.py.\n",
    "\n",
    "module1.py:\n",
    "```python\n",
    "def say_hello():\n",
    "    print(\"Hello from Module 1!\")\n",
    "```\n",
    "module2.py\n",
    "```python\n",
    "import module1\n",
    "def greet():\n",
    "    module1.say_hello()\n",
    "```\n",
    "\n",
    "module3.py\n",
    "```python\n",
    "import module2\n",
    "module2.greet()\n",
    "```\n",
    "In this example, module3.py indirectly imports module1.py through module2.py.\n",
    "\n",
    "When module3.py is executed, it imports module2.py using the import module2 statement. And module2.py, in turn, imports module1.py using the import module1 statement. After these imports, module3.py can call the greet() function from module2.py, which, in turn, invokes the say_hello() function from module1.py.\n",
    "\n",
    "This demonstrates indirect importing, where module1.py is indirectly imported through module2.py, and module3.py can access functions or variables from both module1.py and module2.py.\n"
   ]
  },
  {
   "cell_type": "markdown",
   "id": "3408d081",
   "metadata": {},
   "source": []
  }
 ],
 "metadata": {
  "kernelspec": {
   "display_name": "Python 3",
   "language": "python",
   "name": "python3"
  },
  "language_info": {
   "codemirror_mode": {
    "name": "ipython",
    "version": 3
   },
   "file_extension": ".py",
   "mimetype": "text/x-python",
   "name": "python",
   "nbconvert_exporter": "python",
   "pygments_lexer": "ipython3",
   "version": "3.8.8"
  }
 },
 "nbformat": 4,
 "nbformat_minor": 5
}
